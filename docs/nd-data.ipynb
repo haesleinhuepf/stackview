{
 "cells": [
  {
   "cell_type": "markdown",
   "id": "6ea664c6-2136-495a-b7e1-9dcf643a4310",
   "metadata": {},
   "source": [
    "# Viewing nD-data\n",
    "Since version 0.10.0 stackview comes with support for viewing image data that has more than 3 dimensions."
   ]
  },
  {
   "cell_type": "code",
   "execution_count": 1,
   "id": "6d13231d-6d72-42e2-baa9-07d882fc65cf",
   "metadata": {
    "tags": []
   },
   "outputs": [],
   "source": [
    "import stackview\n",
    "from skimage.io import imread"
   ]
  },
  {
   "cell_type": "markdown",
   "id": "2afef7d7-9b16-4071-a3d6-1d1be44d33f1",
   "metadata": {
    "tags": []
   },
   "source": [
    "We use the mitosis example dataset from ImageJ."
   ]
  },
  {
   "cell_type": "code",
   "execution_count": 2,
   "id": "efd772b3-9127-49d6-af2f-02d472798453",
   "metadata": {
    "tags": []
   },
   "outputs": [
    {
     "data": {
      "text/plain": [
       "(51, 5, 2, 80, 196)"
      ]
     },
     "execution_count": 2,
     "metadata": {},
     "output_type": "execute_result"
    }
   ],
   "source": [
    "image = imread(\"data/mitosis.tif\")\n",
    "image = image[...,40:120].swapaxes(-1,-2)\n",
    "image.shape"
   ]
  },
  {
   "cell_type": "markdown",
   "id": "ab40c4d9-31c4-4658-98dc-e80b43e80b2e",
   "metadata": {},
   "source": [
    "This image has 5 dimensions. The meaning of these dimensions must be taken from the meta-data or guessed. In our case it is Time, Z, Channel, Y and X. Stackview will automatically add sliders for all but the last two dimensions."
   ]
  },
  {
   "cell_type": "code",
   "execution_count": 3,
   "id": "e5396bd4-dd30-444d-930e-41375707268a",
   "metadata": {
    "tags": []
   },
   "outputs": [
    {
     "data": {
      "application/vnd.jupyter.widget-view+json": {
       "model_id": "5ad36496a6dc41b8b110f68e29fc3d82",
       "version_major": 2,
       "version_minor": 0
      },
      "text/plain": [
       "VBox(children=(HBox(children=(VBox(children=(ImageWidget(height=80, width=196),)),)), VBox(children=(IntSlider…"
      ]
     },
     "execution_count": 3,
     "metadata": {},
     "output_type": "execute_result"
    }
   ],
   "source": [
    "stackview.slice(image)"
   ]
  },
  {
   "cell_type": "markdown",
   "id": "1e466e3a-420f-43cf-8d9b-1c7084820b33",
   "metadata": {},
   "source": [
    "In the view above, you can only inspect a single channel. In order to blend channels over each other, you need to use `stackview.switch` with `toggleable=True`. As the channel dimension cannot be determined automatically, you need to extract the channels yourself. It is also recommended to choose colormaps, to make the channels distinguishable.\n",
    "\n",
    "In ImageJ-language, we call this a composite image."
   ]
  },
  {
   "cell_type": "code",
   "execution_count": 4,
   "id": "5d270524-039b-4282-afb3-e3cc7c8660b2",
   "metadata": {
    "tags": []
   },
   "outputs": [
    {
     "data": {
      "application/vnd.jupyter.widget-view+json": {
       "model_id": "869621c8b53e416eabb593caf76f7510",
       "version_major": 2,
       "version_minor": 0
      },
      "text/plain": [
       "VBox(children=(HBox(children=(VBox(children=(ImageWidget(height=160, width=392),)),)), HBox(children=(ToggleBu…"
      ]
     },
     "execution_count": 4,
     "metadata": {},
     "output_type": "execute_result"
    }
   ],
   "source": [
    "stackview.switch(images=[\n",
    "                    image[:,:,0], # channel 1\n",
    "                    image[:,:,1]  # channel 2\n",
    "                 ], \n",
    "                 colormap=[\n",
    "                     \"pure_green\", \n",
    "                     \"pure_magenta\"\n",
    "                 ], \n",
    "                 toggleable=True,\n",
    "                 zoom_factor=2)"
   ]
  },
  {
   "cell_type": "code",
   "execution_count": null,
   "id": "13f7d04e-97ac-4abf-a699-44d3e715dec1",
   "metadata": {},
   "outputs": [],
   "source": []
  }
 ],
 "metadata": {
  "kernelspec": {
   "display_name": "Python 3 (ipykernel)",
   "language": "python",
   "name": "python3"
  },
  "language_info": {
   "codemirror_mode": {
    "name": "ipython",
    "version": 3
   },
   "file_extension": ".py",
   "mimetype": "text/x-python",
   "name": "python",
   "nbconvert_exporter": "python",
   "pygments_lexer": "ipython3",
   "version": "3.11.9"
  }
 },
 "nbformat": 4,
 "nbformat_minor": 5
}
