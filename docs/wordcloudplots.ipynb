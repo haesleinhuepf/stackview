{
 "cells": [
  {
   "cell_type": "markdown",
   "id": "20a04b0c-06cb-4f29-8381-a6a0d4a20ccd",
   "metadata": {},
   "source": [
    "# Wordcloud plots\n",
    "For text exploration, it might make sense to visualize texts as data points and interact with them."
   ]
  },
  {
   "cell_type": "code",
   "execution_count": 1,
   "id": "8d301701-368f-4365-b555-dae6f06d8bea",
   "metadata": {},
   "outputs": [],
   "source": [
    "import stackview\n",
    "import pandas as pd"
   ]
  },
  {
   "cell_type": "markdown",
   "id": "a991df41-86ab-4188-af47-e6e0cf6d7b32",
   "metadata": {},
   "source": [
    "Here we reuse a list of sentences and a [UMAP](https://umap-learn.readthedocs.io/en/latest/) produced from their text-embeddings. The sentences are taken from [Haase et al. 2022](https://arxiv.org/abs/2204.07547) which is licensed [CC-BY 4.0](https://creativecommons.org/licenses/by/4.0)."
   ]
  },
  {
   "cell_type": "code",
   "execution_count": 2,
   "id": "bb75ed7e-aa83-4015-a74b-8dfb9405ecf1",
   "metadata": {},
   "outputs": [
    {
     "data": {
      "text/html": [
       "<div>\n",
       "<style scoped>\n",
       "    .dataframe tbody tr th:only-of-type {\n",
       "        vertical-align: middle;\n",
       "    }\n",
       "\n",
       "    .dataframe tbody tr th {\n",
       "        vertical-align: top;\n",
       "    }\n",
       "\n",
       "    .dataframe thead th {\n",
       "        text-align: right;\n",
       "    }\n",
       "</style>\n",
       "<table border=\"1\" class=\"dataframe\">\n",
       "  <thead>\n",
       "    <tr style=\"text-align: right;\">\n",
       "      <th></th>\n",
       "      <th>Unnamed: 0</th>\n",
       "      <th>sentence</th>\n",
       "      <th>UMAP0</th>\n",
       "      <th>UMAP1</th>\n",
       "    </tr>\n",
       "  </thead>\n",
       "  <tbody>\n",
       "    <tr>\n",
       "      <th>0</th>\n",
       "      <td>0</td>\n",
       "      <td>A Hitchhiker’s Guide through the Bio-image Ana...</td>\n",
       "      <td>-2.863276</td>\n",
       "      <td>8.680281</td>\n",
       "    </tr>\n",
       "    <tr>\n",
       "      <th>1</th>\n",
       "      <td>1</td>\n",
       "      <td>Modern research in the life sciences is unthin...</td>\n",
       "      <td>-3.731295</td>\n",
       "      <td>7.875060</td>\n",
       "    </tr>\n",
       "    <tr>\n",
       "      <th>2</th>\n",
       "      <td>2</td>\n",
       "      <td>In the past decade, we observed a dramatic inc...</td>\n",
       "      <td>-4.748690</td>\n",
       "      <td>6.128065</td>\n",
       "    </tr>\n",
       "    <tr>\n",
       "      <th>3</th>\n",
       "      <td>3</td>\n",
       "      <td>As it is increasingly difficult to keep track ...</td>\n",
       "      <td>-4.183692</td>\n",
       "      <td>6.847530</td>\n",
       "    </tr>\n",
       "    <tr>\n",
       "      <th>4</th>\n",
       "      <td>4</td>\n",
       "      <td>We give guidance on which aspects to consider ...</td>\n",
       "      <td>-4.912832</td>\n",
       "      <td>6.691180</td>\n",
       "    </tr>\n",
       "  </tbody>\n",
       "</table>\n",
       "</div>"
      ],
      "text/plain": [
       "   Unnamed: 0                                           sentence     UMAP0  \\\n",
       "0           0  A Hitchhiker’s Guide through the Bio-image Ana... -2.863276   \n",
       "1           1  Modern research in the life sciences is unthin... -3.731295   \n",
       "2           2  In the past decade, we observed a dramatic inc... -4.748690   \n",
       "3           3  As it is increasingly difficult to keep track ... -4.183692   \n",
       "4           4  We give guidance on which aspects to consider ... -4.912832   \n",
       "\n",
       "      UMAP1  \n",
       "0  8.680281  \n",
       "1  7.875060  \n",
       "2  6.128065  \n",
       "3  6.847530  \n",
       "4  6.691180  "
      ]
     },
     "execution_count": 2,
     "metadata": {},
     "output_type": "execute_result"
    }
   ],
   "source": [
    "df = pd.read_csv(\"data/sentence_embeddings.csv\")\n",
    "df.head()"
   ]
  },
  {
   "cell_type": "markdown",
   "id": "b5a69daa-2282-47d6-a020-cf3f8a5539fe",
   "metadata": {},
   "source": [
    "A word cloud plot is an interactive plot where you can select texts and from your selection, a wordcloud is generated."
   ]
  },
  {
   "cell_type": "code",
   "execution_count": 3,
   "id": "99720165-0a6c-4c0a-8922-e6350b5a70f3",
   "metadata": {},
   "outputs": [
    {
     "data": {
      "application/vnd.jupyter.widget-view+json": {
       "model_id": "b30463a9357f4846827c31acb06fc0bc",
       "version_major": 2,
       "version_minor": 0
      },
      "text/plain": [
       "VBox(children=(HBox(children=(HBox(children=(VBox(children=(VBox(children=(HBox(children=(VBox(children=(Image…"
      ]
     },
     "execution_count": 3,
     "metadata": {},
     "output_type": "execute_result"
    }
   ],
   "source": [
    "stackview.wordcloudplot(df, column_text=\"sentence\", column_x=\"UMAP0\", column_y=\"UMAP1\")"
   ]
  },
  {
   "cell_type": "code",
   "execution_count": null,
   "id": "39c71ab5-43f3-4768-9e99-973905082950",
   "metadata": {},
   "outputs": [],
   "source": []
  }
 ],
 "metadata": {
  "kernelspec": {
   "display_name": "Python 3 (ipykernel)",
   "language": "python",
   "name": "python3"
  },
  "language_info": {
   "codemirror_mode": {
    "name": "ipython",
    "version": 3
   },
   "file_extension": ".py",
   "mimetype": "text/x-python",
   "name": "python",
   "nbconvert_exporter": "python",
   "pygments_lexer": "ipython3",
   "version": "3.11.10"
  }
 },
 "nbformat": 4,
 "nbformat_minor": 5
}
