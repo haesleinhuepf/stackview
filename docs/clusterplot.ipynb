{
 "cells": [
  {
   "cell_type": "code",
   "execution_count": 1,
   "id": "35d1c118-c57f-4ba4-9926-de78d5db451c",
   "metadata": {},
   "outputs": [],
   "source": [
    "import bia_bob\n",
    "import pyclesperanto_prototype as cle\n",
    "import stackview"
   ]
  },
  {
   "cell_type": "raw",
   "id": "39df4e10-bdf9-4e6f-8289-71554fa11ee8",
   "metadata": {},
   "source": [
    "%bob load the cells3d dataset and extract the nuclei channel"
   ]
  },
  {
   "cell_type": "code",
   "execution_count": 2,
   "id": "e9bbbd3b-ac3c-4171-a42f-ea07cadc7d63",
   "metadata": {},
   "outputs": [
    {
     "data": {
      "text/plain": [
       "(60, 256, 256)"
      ]
     },
     "execution_count": 2,
     "metadata": {},
     "output_type": "execute_result"
    }
   ],
   "source": [
    "import numpy as np  # Already imported modules should not be imported again\n",
    "from skimage.data import cells3d\n",
    "\n",
    "# Extract the nuclei channel (assuming channel 1 is the nuclei channel)\n",
    "nuclei_channel = cells3d()[:, 1, :, :]\n",
    "\n",
    "nuclei_channel.shape  # to verify the extraction"
   ]
  },
  {
   "cell_type": "raw",
   "id": "09769fd0-4606-437f-9fc5-f7f260f871a5",
   "metadata": {},
   "source": [
    "%bob segment the nuclei_channel image using otsu thresholding and connected component labeling"
   ]
  },
  {
   "cell_type": "code",
   "execution_count": 3,
   "id": "72a47ee0-be9b-456c-91d3-f91a58c95dff",
   "metadata": {},
   "outputs": [
    {
     "data": {
      "text/html": [
       "<table>\n",
       "<tr>\n",
       "<td>\n",
       "<img src=\"data:image/png;base64,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\"></img>\n",
       "</td>\n",
       "<td style=\"text-align: center; vertical-align: top;\">\n",
       "\n",
       "<table>\n",
       "<tr><td>shape</td><td>(60,&nbsp;256,&nbsp;256)</td></tr>\n",
       "<tr><td>dtype</td><td>uint32</td></tr>\n",
       "<tr><td>size</td><td>15.0 MB</td></tr>\n",
       "<tr><td>min</td><td>0</td></tr><tr><td>max</td><td>740</td></tr>\n",
       "</table>\n",
       "\n",
       "</td>\n",
       "</tr>\n",
       "</table>"
      ],
      "text/plain": [
       "StackViewNDArray([[[0, 0, 0, ..., 0, 0, 0],\n",
       "                   [0, 0, 0, ..., 0, 0, 0],\n",
       "                   [0, 0, 0, ..., 0, 0, 0],\n",
       "                   ...,\n",
       "                   [0, 0, 0, ..., 0, 0, 0],\n",
       "                   [0, 0, 0, ..., 0, 0, 0],\n",
       "                   [0, 0, 0, ..., 0, 0, 0]],\n",
       "\n",
       "                  [[0, 0, 0, ..., 0, 0, 0],\n",
       "                   [0, 0, 0, ..., 0, 0, 0],\n",
       "                   [0, 0, 0, ..., 0, 0, 0],\n",
       "                   ...,\n",
       "                   [0, 0, 0, ..., 0, 0, 0],\n",
       "                   [0, 0, 0, ..., 0, 0, 0],\n",
       "                   [0, 0, 0, ..., 0, 0, 0]],\n",
       "\n",
       "                  [[0, 0, 0, ..., 0, 0, 0],\n",
       "                   [0, 0, 0, ..., 0, 0, 0],\n",
       "                   [0, 0, 0, ..., 0, 0, 0],\n",
       "                   ...,\n",
       "                   [0, 0, 0, ..., 0, 0, 0],\n",
       "                   [0, 0, 0, ..., 0, 0, 0],\n",
       "                   [0, 0, 0, ..., 0, 0, 0]],\n",
       "\n",
       "                  ...,\n",
       "\n",
       "                  [[0, 0, 0, ..., 0, 0, 0],\n",
       "                   [0, 0, 0, ..., 0, 0, 0],\n",
       "                   [0, 0, 0, ..., 0, 0, 0],\n",
       "                   ...,\n",
       "                   [0, 0, 0, ..., 0, 0, 0],\n",
       "                   [0, 0, 0, ..., 0, 0, 0],\n",
       "                   [0, 0, 0, ..., 0, 0, 0]],\n",
       "\n",
       "                  [[0, 0, 0, ..., 0, 0, 0],\n",
       "                   [0, 0, 0, ..., 0, 0, 0],\n",
       "                   [0, 0, 0, ..., 0, 0, 0],\n",
       "                   ...,\n",
       "                   [0, 0, 0, ..., 0, 0, 0],\n",
       "                   [0, 0, 0, ..., 0, 0, 0],\n",
       "                   [0, 0, 0, ..., 0, 0, 0]],\n",
       "\n",
       "                  [[0, 0, 0, ..., 0, 0, 0],\n",
       "                   [0, 0, 0, ..., 0, 0, 0],\n",
       "                   [0, 0, 0, ..., 0, 0, 0],\n",
       "                   ...,\n",
       "                   [0, 0, 0, ..., 0, 0, 0],\n",
       "                   [0, 0, 0, ..., 0, 0, 0],\n",
       "                   [0, 0, 0, ..., 0, 0, 0]]], dtype=uint32)"
      ]
     },
     "execution_count": 3,
     "metadata": {},
     "output_type": "execute_result"
    }
   ],
   "source": [
    "# Apply Otsu's threshold to create a binary image\n",
    "binary_nuclei = cle.threshold_otsu(nuclei_channel)\n",
    "\n",
    "# Perform connected component labeling\n",
    "labeled_nuclei = cle.connected_components_labeling_box(binary_nuclei)\n",
    "\n",
    "# Display the segmented label map\n",
    "stackview.insight(labeled_nuclei)"
   ]
  },
  {
   "cell_type": "code",
   "execution_count": 4,
   "id": "f94055dd-0aef-4de6-9d18-dc938bb0149e",
   "metadata": {},
   "outputs": [
    {
     "data": {
      "text/html": [
       "<div>\n",
       "<style scoped>\n",
       "    .dataframe tbody tr th:only-of-type {\n",
       "        vertical-align: middle;\n",
       "    }\n",
       "\n",
       "    .dataframe tbody tr th {\n",
       "        vertical-align: top;\n",
       "    }\n",
       "\n",
       "    .dataframe thead th {\n",
       "        text-align: right;\n",
       "    }\n",
       "</style>\n",
       "<table border=\"1\" class=\"dataframe\">\n",
       "  <thead>\n",
       "    <tr style=\"text-align: right;\">\n",
       "      <th></th>\n",
       "      <th>label</th>\n",
       "      <th>area</th>\n",
       "      <th>mean_intensity</th>\n",
       "    </tr>\n",
       "  </thead>\n",
       "  <tbody>\n",
       "    <tr>\n",
       "      <th>0</th>\n",
       "      <td>1</td>\n",
       "      <td>27119.0</td>\n",
       "      <td>12862.000295</td>\n",
       "    </tr>\n",
       "    <tr>\n",
       "      <th>1</th>\n",
       "      <td>2</td>\n",
       "      <td>5.0</td>\n",
       "      <td>11143.800000</td>\n",
       "    </tr>\n",
       "    <tr>\n",
       "      <th>2</th>\n",
       "      <td>3</td>\n",
       "      <td>168.0</td>\n",
       "      <td>11268.273810</td>\n",
       "    </tr>\n",
       "    <tr>\n",
       "      <th>3</th>\n",
       "      <td>4</td>\n",
       "      <td>60.0</td>\n",
       "      <td>11758.683333</td>\n",
       "    </tr>\n",
       "    <tr>\n",
       "      <th>4</th>\n",
       "      <td>5</td>\n",
       "      <td>1.0</td>\n",
       "      <td>10527.000000</td>\n",
       "    </tr>\n",
       "  </tbody>\n",
       "</table>\n",
       "</div>"
      ],
      "text/plain": [
       "   label     area  mean_intensity\n",
       "0      1  27119.0    12862.000295\n",
       "1      2      5.0    11143.800000\n",
       "2      3    168.0    11268.273810\n",
       "3      4     60.0    11758.683333\n",
       "4      5      1.0    10527.000000"
      ]
     },
     "execution_count": 4,
     "metadata": {},
     "output_type": "execute_result"
    }
   ],
   "source": [
    "import pandas as pd\n",
    "from skimage.measure import regionprops_table\n",
    "\n",
    "# Define properties to extract\n",
    "properties = ['label', 'area', 'mean_intensity']\n",
    "\n",
    "# Extract features\n",
    "measurements = regionprops_table(np.asarray(labeled_nuclei), intensity_image=nuclei_channel, properties=properties)\n",
    "\n",
    "# Store results in a DataFrame\n",
    "df = pd.DataFrame(measurements)\n",
    "df.head()  # To display the first few rows of the extracted features"
   ]
  },
  {
   "cell_type": "code",
   "execution_count": 6,
   "id": "1fba06ed-5ae5-4049-a656-d1d4ea18894d",
   "metadata": {},
   "outputs": [
    {
     "data": {
      "application/vnd.jupyter.widget-view+json": {
       "model_id": "9e50d99d1f4b431787c2b422e15f6b49",
       "version_major": 2,
       "version_minor": 0
      },
      "text/plain": [
       "VBox(children=(HBox(children=(VBox(children=(HBox(children=(VBox(children=(ImageWidget(height=256, width=256),…"
      ]
     },
     "execution_count": 6,
     "metadata": {},
     "output_type": "execute_result"
    }
   ],
   "source": [
    "import stackview\n",
    "stackview.clusterplot(df, labeled_nuclei, column_x=\"area\", column_y=\"mean_intensity\", image=nuclei_channel)"
   ]
  },
  {
   "cell_type": "code",
   "execution_count": null,
   "id": "5c07c9fc-873b-490b-a2b3-b280a9557f13",
   "metadata": {},
   "outputs": [],
   "source": []
  }
 ],
 "metadata": {
  "kernelspec": {
   "display_name": "Python 3 (ipykernel)",
   "language": "python",
   "name": "python3"
  },
  "language_info": {
   "codemirror_mode": {
    "name": "ipython",
    "version": 3
   },
   "file_extension": ".py",
   "mimetype": "text/x-python",
   "name": "python",
   "nbconvert_exporter": "python",
   "pygments_lexer": "ipython3",
   "version": "3.11.9"
  }
 },
 "nbformat": 4,
 "nbformat_minor": 5
}
