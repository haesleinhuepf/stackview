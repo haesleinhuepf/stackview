{
 "cells": [
  {
   "cell_type": "markdown",
   "id": "d46e0d10-e6ba-405c-8775-20f8a26e2ea4",
   "metadata": {},
   "source": [
    "# Cropping images\n",
    "The `crop` widget allows cropping a 2D or 3D image."
   ]
  },
  {
   "cell_type": "code",
   "execution_count": 1,
   "id": "6a62000e-ede4-430c-b02c-ab49bb658ed3",
   "metadata": {},
   "outputs": [],
   "source": [
    "import stackview\n",
    "\n",
    "from skimage.io import imread\n",
    "import numpy as np"
   ]
  },
  {
   "cell_type": "code",
   "execution_count": 2,
   "id": "53b1f041-3e9b-45d5-97ea-8e6bf0cbc3cb",
   "metadata": {},
   "outputs": [],
   "source": [
    "image = imread(\"data/CalibZAPWfixed_000154_max.tif\")"
   ]
  },
  {
   "cell_type": "markdown",
   "id": "deec8f67-28d2-4823-9f0e-f98feb8c8f3c",
   "metadata": {},
   "source": [
    "The widget contains 2 or 3 sliders, for 2D and 3D images respectively. It also supports `stackview`'s typical parameters such as `continuous_update`, `zoom_factor`, etc.\n",
    "The crop can either be selected via the sliders or with two mouse clicks (left click for top left corner, right lick for bottom right corner of the cropped rectangle)."
   ]
  },
  {
   "cell_type": "code",
   "execution_count": 3,
   "id": "056d87bc-0e82-4b73-abde-ee525b088447",
   "metadata": {},
   "outputs": [
    {
     "data": {
      "application/vnd.jupyter.widget-view+json": {
       "model_id": "238a16fc283b407aa3132095b51b34ab",
       "version_major": 2,
       "version_minor": 0
      },
      "text/plain": [
       "_Cropper(children=(IntRangeSlider(value=(0, 235), description='Y', max=235), IntRangeSlider(value=(0, 389), de…"
      ]
     },
     "execution_count": 3,
     "metadata": {},
     "output_type": "execute_result"
    }
   ],
   "source": [
    "image_2d = image[0]\n",
    "\n",
    "crop_widget_2d = stackview.crop(image_2d, continuous_update=True)\n",
    "crop_widget_2d"
   ]
  },
  {
   "cell_type": "code",
   "execution_count": 4,
   "id": "a0f53081-6c7e-4022-9b43-3c4af734aa3c",
   "metadata": {},
   "outputs": [
    {
     "data": {
      "application/vnd.jupyter.widget-view+json": {
       "model_id": "fbe568bc1af14d17b755877dcf87fd96",
       "version_major": 2,
       "version_minor": 0
      },
      "text/plain": [
       "_Cropper(children=(IntRangeSlider(value=(0, 100), description='Z'), IntRangeSlider(value=(0, 235), description…"
      ]
     },
     "execution_count": 4,
     "metadata": {},
     "output_type": "execute_result"
    }
   ],
   "source": [
    "crop_widget = stackview.crop(image, \n",
    "                             continuous_update=True, \n",
    "                             zoom_factor=0.75)\n",
    "crop_widget"
   ]
  },
  {
   "cell_type": "markdown",
   "id": "f6e64657-c945-4653-974a-63fc1207afc9",
   "metadata": {},
   "source": [
    "You can also modify the labels of the axes. E.g. in the use-case shown here, we're modifying timelapse dataset."
   ]
  },
  {
   "cell_type": "code",
   "execution_count": 5,
   "id": "8c6547ff-08a9-4d8f-b5b2-cc24ae857d30",
   "metadata": {},
   "outputs": [
    {
     "data": {
      "application/vnd.jupyter.widget-view+json": {
       "model_id": "8b77331b03ab480caea8e89610bb3a36",
       "version_major": 2,
       "version_minor": 0
      },
      "text/plain": [
       "_Cropper(children=(IntRangeSlider(value=(0, 100), description='Frame'), IntRangeSlider(value=(0, 235), descrip…"
      ]
     },
     "execution_count": 5,
     "metadata": {},
     "output_type": "execute_result"
    }
   ],
   "source": [
    "crop_widget = stackview.crop(image, \n",
    "                             continuous_update=True, \n",
    "                             zoom_factor=0.75,\n",
    "                             slider_text=\"Frame\",\n",
    "                             axis_names=[\"Frame\", \"Y\", \"X\"])\n",
    "crop_widget"
   ]
  },
  {
   "cell_type": "markdown",
   "id": "4fe1e564-702f-471d-9a0c-1f43ba8ba2d8",
   "metadata": {},
   "source": [
    "## Configuring and reading the cropped region\n",
    "You can change the range sliders programmatically."
   ]
  },
  {
   "cell_type": "code",
   "execution_count": 6,
   "id": "29a8a6d8-3792-4444-af2e-2bf861eec350",
   "metadata": {},
   "outputs": [
    {
     "data": {
      "application/vnd.jupyter.widget-view+json": {
       "model_id": "d7ee51fc4e0849b2b0dc93bc31892686",
       "version_major": 2,
       "version_minor": 0
      },
      "text/plain": [
       "_Cropper(children=(IntRangeSlider(value=(0, 40), description='Z'), IntRangeSlider(value=(40, 80), description=…"
      ]
     },
     "execution_count": 6,
     "metadata": {},
     "output_type": "execute_result"
    }
   ],
   "source": [
    "crop_widget = stackview.crop(image, continuous_update=True, zoom_factor=2)\n",
    "crop_widget.range = (slice(0, 40), slice(40, 80), slice(80, 120))\n",
    "crop_widget"
   ]
  },
  {
   "cell_type": "markdown",
   "id": "ff1895b8-4388-43c0-b937-3dcaa4c459e0",
   "metadata": {},
   "source": [
    "You can retrieve the cropped range like this."
   ]
  },
  {
   "cell_type": "code",
   "execution_count": 7,
   "id": "83437af7-7b8c-4fcf-87fc-33d2b6806a32",
   "metadata": {},
   "outputs": [
    {
     "data": {
      "text/plain": [
       "(slice(0, 40, 1), slice(40, 80, 1), slice(80, 120, 1))"
      ]
     },
     "execution_count": 7,
     "metadata": {},
     "output_type": "execute_result"
    }
   ],
   "source": [
    "r = crop_widget.range\n",
    "r"
   ]
  },
  {
   "cell_type": "markdown",
   "id": "0fcdd5c0-27c2-4e41-bc8e-3e51a6d7f60c",
   "metadata": {},
   "source": [
    "It technically is a tuple of Python `slice`s."
   ]
  },
  {
   "cell_type": "code",
   "execution_count": 8,
   "id": "6d369e37-314b-41d7-95c9-8f01ce6d5065",
   "metadata": {},
   "outputs": [
    {
     "data": {
      "text/plain": [
       "(0, 40)"
      ]
     },
     "execution_count": 8,
     "metadata": {},
     "output_type": "execute_result"
    }
   ],
   "source": [
    "r[0].start, r[0].stop"
   ]
  },
  {
   "cell_type": "markdown",
   "id": "31406f30-034f-40ef-a1f5-59eec6fadd6e",
   "metadata": {},
   "source": [
    "## Cropping images\n",
    "You can use this range to crop the image..."
   ]
  },
  {
   "cell_type": "code",
   "execution_count": 9,
   "id": "3640ee51-b513-4376-88b2-52cb521d1b85",
   "metadata": {},
   "outputs": [
    {
     "data": {
      "text/plain": [
       "(40, 40, 40)"
      ]
     },
     "execution_count": 9,
     "metadata": {},
     "output_type": "execute_result"
    }
   ],
   "source": [
    "r = crop_widget.range\n",
    "image[r].shape"
   ]
  },
  {
   "cell_type": "markdown",
   "id": "a626c3fd-5dff-4be4-a55b-0cdb65ef162b",
   "metadata": {},
   "source": [
    "... or retrieve the cropped image directly."
   ]
  },
  {
   "cell_type": "code",
   "execution_count": 10,
   "id": "cd0ce8fe-81f9-470a-a48c-9292506885ec",
   "metadata": {},
   "outputs": [
    {
     "data": {
      "text/plain": [
       "(40, 40, 40)"
      ]
     },
     "execution_count": 10,
     "metadata": {},
     "output_type": "execute_result"
    }
   ],
   "source": [
    "cropped_image = crop_widget.crop()\n",
    "cropped_image.shape"
   ]
  },
  {
   "cell_type": "markdown",
   "id": "cbc8eca1-5d90-4111-87ea-d8ee78cdbabd",
   "metadata": {},
   "source": [
    "This `cropped_image` object uses `stackview`'s `insight` under the hood and thus, comes with a nice view."
   ]
  },
  {
   "cell_type": "code",
   "execution_count": 11,
   "id": "8d05234d-38b6-4272-a05f-419082b95401",
   "metadata": {},
   "outputs": [
    {
     "data": {
      "text/html": [
       "<table>\n",
       "<tr>\n",
       "<td>\n",
       "<img src=\"data:image/png;base64,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\"></img>\n",
       "</td>\n",
       "<td style=\"text-align: center; vertical-align: top;\">\n",
       "\n",
       "<table>\n",
       "<tr><td>shape</td><td>(40,&nbsp;40,&nbsp;40)</td></tr>\n",
       "<tr><td>dtype</td><td>uint8</td></tr>\n",
       "<tr><td>size</td><td>62.5 kB</td></tr>\n",
       "<tr><td>min</td><td>0</td></tr><tr><td>max</td><td>255</td></tr>\n",
       "</table>\n",
       "<img src=\"data:image/png;base64,iVBORw0KGgoAAAANSUhEUgAAALQAAAB4CAYAAABb59j9AAAAOXRFWHRTb2Z0d2FyZQBNYXRwbG90bGliIHZlcnNpb24zLjYuMiwgaHR0cHM6Ly9tYXRwbG90bGliLm9yZy8o6BhiAAAACXBIWXMAAA9hAAAPYQGoP6dpAAACr0lEQVR4nO3bMW7TYBzG4c8Rq3OAKJY4APdg4EJsqBsXYuAePQBSKh/AkZBYYgbUVDVFbbE/JX39PFOstLaHn/797NrNOI5jgRCbS58ALEnQRBE0UQRNFEETRdBEETRRBE0UQRNF0EQRNFEETZR3tXZ8Op1K3/elbdvSNE2twxBgHMdyPB7Lbrcrm828GVst6L7vS9d1tXZPoMPhUPb7/ax9VAu6bdtSyp+T3G63tQ5DgGEYStd152bmqBb0/TJju90KmhdZYmnqopAogiZKtSXHkt5//nb+/OPrpwueCdfOhCaKoIkiaKIImiiCJoqgiSJoogiaKIImiqCJImiiCJoogiaKoIkiaKIImiiCJoqgiSJoolzlO4XeIeR/mdBEETRRrnLJ8RxLEv7FhCaKoIkiaKIImiiCJoqgiSJoogiaKIImiqCJImiiCJoogiaKoIkiaKIImiiCJsqbfGNlyhss3DOhiSJoogiaKIImiqCJchV3OdylYCkmNFEETZSrWHIszRJmvUxoogiaKIImiqCJImiiCJoogiaKoIkiaKIImiiCJoqgiSJoogiaKIImiqCJEvmA/5QH/tfDhCaKoIkiaKIImigXuSh0kUYtJjRRVnHbbspfiFwmNFFWOaGnTOwcJjRRBE0UQRPFGvoJ1tRvl6BfYBr43OCf+/2lj7cmgl7AcwG+NuDXHo8Hgg5goj8Q9AqsKXBBr1By4IImaslSLehxHEsppQzD8Nd3p18/z5+HYbB95dsfvnw/b9/efHy0PXV78/HR9vRnp9/fH6OUh2bmaMYl9vKEu7u70nVdjV0T6nA4lP1+P2sf1YI+nU6l7/vStm1pmqbGIQgxjmM5Ho9lt9uVzWbeP6+rBQ2X4FkOogiaKIImiqCJImiiCJoogiaKoIkiaKIImii/AbwXPP3hiUUjAAAAAElFTkSuQmCC\"></img>\n",
       "</td>\n",
       "</tr>\n",
       "</table>"
      ],
      "text/plain": [
       "StackViewNDArray([[[ 30,  48,  35, ...,  33,  37,  48],\n",
       "                   [ 18,  24,  33, ...,  50,  41,  43],\n",
       "                   [ 37,  36,  37, ...,  40,  37,  45],\n",
       "                   ...,\n",
       "                   [ 61,  48,  48, ...,  54,  74,  68],\n",
       "                   [ 66,  40,  35, ...,  66,  70,  78],\n",
       "                   [ 26,  18,  31, ...,  98,  79,  43]],\n",
       "\n",
       "                  [[ 28,  10,  18, ...,  25,  32,  39],\n",
       "                   [ 18,  17,  29, ...,  65,  40,  32],\n",
       "                   [ 20,  19,  30, ...,  24,  17,  21],\n",
       "                   ...,\n",
       "                   [ 41,  68,  80, ...,  53,  56,  61],\n",
       "                   [ 20,  50,  91, ...,  47,  61,  65],\n",
       "                   [ 43,  12,  14, ...,  75,  80, 100]],\n",
       "\n",
       "                  [[ 27,  25,  29, ...,  44,  42,  41],\n",
       "                   [ 41,  48,  49, ...,  61,  45,  60],\n",
       "                   [ 49,  38,  20, ...,  56,  55,  48],\n",
       "                   ...,\n",
       "                   [ 42,  37,  50, ...,  40,  42,  43],\n",
       "                   [ 43,  48,  44, ...,  50,  45,  65],\n",
       "                   [ 32,  37,  57, ...,  80,  55,  44]],\n",
       "\n",
       "                  ...,\n",
       "\n",
       "                  [[ 28,  27,  21, ...,  32,  38,  38],\n",
       "                   [ 27,  27,  31, ...,  40,  48,  45],\n",
       "                   [ 24,  24,  29, ...,  37,  37,  39],\n",
       "                   ...,\n",
       "                   [ 19,  21,  12, ...,   8,   0,   5],\n",
       "                   [ 18,  26,  18, ...,   8,   4,  12],\n",
       "                   [ 18,  33,  17, ...,  10,   8,  10]],\n",
       "\n",
       "                  [[ 38,  24,  26, ...,  25,  27,  32],\n",
       "                   [ 33,  29,  39, ...,  37,  40,  42],\n",
       "                   [ 35,  37,  31, ...,  31,  40,  45],\n",
       "                   ...,\n",
       "                   [ 95,  27,  12, ...,  20,  12,  17],\n",
       "                   [ 97,  35,   5, ...,  25,  27,  17],\n",
       "                   [111,  42,  14, ...,  22,  26,  17]],\n",
       "\n",
       "                  [[ 63,  40,  42, ...,  30,  49,  51],\n",
       "                   [ 60,  49,  44, ...,  42,  45,  38],\n",
       "                   [ 41,  39,  59, ...,  37,  31,  42],\n",
       "                   ...,\n",
       "                   [135, 157, 159, ...,  59,  27,  29],\n",
       "                   [ 91, 128, 132, ...,  45,  22,  18],\n",
       "                   [ 77,  63,  79, ...,  52,  27,  26]]], dtype=uint8)"
      ]
     },
     "execution_count": 11,
     "metadata": {},
     "output_type": "execute_result"
    }
   ],
   "source": [
    "cropped_image"
   ]
  },
  {
   "cell_type": "code",
   "execution_count": 12,
   "id": "3c8f94c7-2e41-4b7f-8d03-7230ab9aa3aa",
   "metadata": {},
   "outputs": [
    {
     "data": {
      "application/vnd.jupyter.widget-view+json": {
       "model_id": "5e0a73c37649420dbcb44f5455bce585",
       "version_major": 2,
       "version_minor": 0
      },
      "text/plain": [
       "_Cropper(children=(IntRangeSlider(value=(0, 100), description='Z'), IntRangeSlider(value=(0, 235), description…"
      ]
     },
     "execution_count": 12,
     "metadata": {},
     "output_type": "execute_result"
    }
   ],
   "source": [
    "crop_widget = stackview.crop(image, \n",
    "                             continuous_update=True, \n",
    "                             zoom_factor=0.75)\n",
    "crop_widget"
   ]
  },
  {
   "cell_type": "code",
   "execution_count": 13,
   "id": "af56ed48-560d-4455-bd2c-0e432aaab884",
   "metadata": {},
   "outputs": [
    {
     "data": {
      "text/plain": [
       "(slice(0, 100, 1), slice(0, 235, 1), slice(0, 389, 1))"
      ]
     },
     "execution_count": 13,
     "metadata": {},
     "output_type": "execute_result"
    }
   ],
   "source": [
    "crop_widget.range"
   ]
  },
  {
   "cell_type": "code",
   "execution_count": null,
   "id": "b6a87344-a0fb-4338-be03-2e7d828b6bd6",
   "metadata": {},
   "outputs": [],
   "source": []
  }
 ],
 "metadata": {
  "kernelspec": {
   "display_name": "Python 3 (ipykernel)",
   "language": "python",
   "name": "python3"
  },
  "language_info": {
   "codemirror_mode": {
    "name": "ipython",
    "version": 3
   },
   "file_extension": ".py",
   "mimetype": "text/x-python",
   "name": "python",
   "nbconvert_exporter": "python",
   "pygments_lexer": "ipython3",
   "version": "3.9.15"
  },
  "widgets": {
   "application/vnd.jupyter.widget-state+json": {
    "state": {
     "0e2bf5146a1d459a95a36e1d9db28562": {
      "model_module": "@jupyter-widgets/controls",
      "model_module_version": "2.0.0",
      "model_name": "HBoxModel",
      "state": {
       "children": [
        "IPY_MODEL_ace8f9fd1fe54591b6694b44f63de5f9"
       ],
       "layout": "IPY_MODEL_2883b4323bdf469aafeaf668e0e98f72"
      }
     },
     "12a1f34443cf4887aab35d536a63ab6b": {
      "model_module": "@jupyter-widgets/controls",
      "model_module_version": "2.0.0",
      "model_name": "SliderStyleModel",
      "state": {
       "description_width": ""
      }
     },
     "136891c68999422784f2cd5afa8db75f": {
      "model_module": "@jupyter-widgets/controls",
      "model_module_version": "2.0.0",
      "model_name": "SliderStyleModel",
      "state": {
       "description_width": ""
      }
     },
     "137b389fd9a24702830c9352a912094d": {
      "model_module": "@jupyter-widgets/base",
      "model_module_version": "2.0.0",
      "model_name": "LayoutModel",
      "state": {}
     },
     "1422a150c52643ac9c72bbb8b9599eb9": {
      "model_module": "@jupyter-widgets/base",
      "model_module_version": "2.0.0",
      "model_name": "LayoutModel",
      "state": {}
     },
     "17c666cfd43740d4beed828fe17b7a25": {
      "model_module": "@jupyter-widgets/controls",
      "model_module_version": "2.0.0",
      "model_name": "SliderStyleModel",
      "state": {
       "description_width": ""
      }
     },
     "1a83fc4b749441e781201846eff11f45": {
      "model_module": "@jupyter-widgets/base",
      "model_module_version": "2.0.0",
      "model_name": "LayoutModel",
      "state": {}
     },
     "1e8bed8fa75540e4aefd85f8d80415d2": {
      "model_module": "@jupyter-widgets/controls",
      "model_module_version": "2.0.0",
      "model_name": "SliderStyleModel",
      "state": {
       "description_width": ""
      }
     },
     "1fc6533561124917ab29c4ddd0a66049": {
      "model_module": "ipycanvas",
      "model_module_version": "^0.13",
      "model_name": "CanvasModel",
      "state": {
       "_canvas_manager": "IPY_MODEL_5176882aedbb48b1bfa41a6aed57d31f",
       "_model_module_version": "^0.13",
       "_view_module_version": "^0.13",
       "height": 235,
       "layout": "IPY_MODEL_8ce29111dd504262b4ef8e6eb4b13a9d",
       "width": 389
      }
     },
     "238a16fc283b407aa3132095b51b34ab": {
      "model_module": "@jupyter-widgets/controls",
      "model_module_version": "2.0.0",
      "model_name": "VBoxModel",
      "state": {
       "children": [
        "IPY_MODEL_e8322cd9e9614d43870346c49ddb43b3",
        "IPY_MODEL_612930e7bcef497abfac703df34a4340",
        "IPY_MODEL_c96b05eac9b245379cbdf65fa89f3b05"
       ],
       "layout": "IPY_MODEL_583f7ce2babb42229fc010cc418df7e0"
      }
     },
     "27c66d58f257456391ef397d0413ccf3": {
      "model_module": "@jupyter-widgets/controls",
      "model_module_version": "2.0.0",
      "model_name": "IntRangeSliderModel",
      "state": {
       "_model_name": "IntRangeSliderModel",
       "_view_name": "IntRangeSliderView",
       "behavior": "drag-tap",
       "description": "Y",
       "layout": "IPY_MODEL_41e5c1ca66a3414bb7c3975077670cd8",
       "max": 235,
       "style": "IPY_MODEL_e179fbfae7f14e289ef77892015da3bd",
       "value": [
        40,
        80
       ]
      }
     },
     "2883b4323bdf469aafeaf668e0e98f72": {
      "model_module": "@jupyter-widgets/base",
      "model_module_version": "2.0.0",
      "model_name": "LayoutModel",
      "state": {}
     },
     "29397bdfe10a4cac90a651baf28f7402": {
      "model_module": "@jupyter-widgets/base",
      "model_module_version": "2.0.0",
      "model_name": "LayoutModel",
      "state": {}
     },
     "2b229fdb9b214eb984659de06789e4da": {
      "model_module": "@jupyter-widgets/base",
      "model_module_version": "2.0.0",
      "model_name": "LayoutModel",
      "state": {}
     },
     "2ed2da85aa9245a7aac73f75b3b32c8e": {
      "model_module": "@jupyter-widgets/base",
      "model_module_version": "2.0.0",
      "model_name": "LayoutModel",
      "state": {}
     },
     "300afa9320e4433880fd841f43565734": {
      "model_module": "@jupyter-widgets/base",
      "model_module_version": "2.0.0",
      "model_name": "LayoutModel",
      "state": {}
     },
     "3257399d4eff47fc97dace8955ca254e": {
      "model_module": "@jupyter-widgets/controls",
      "model_module_version": "2.0.0",
      "model_name": "IntSliderModel",
      "state": {
       "behavior": "drag-tap",
       "description": "Slice",
       "layout": "IPY_MODEL_8e318722aa30427ca0def1c8b8cd3fe5",
       "max": 39,
       "style": "IPY_MODEL_e26585864c5a494aa21d886071509d94",
       "value": 39
      }
     },
     "3397c8595f644451b10d84da8061cdf6": {
      "model_module": "@jupyter-widgets/controls",
      "model_module_version": "2.0.0",
      "model_name": "IntRangeSliderModel",
      "state": {
       "_model_name": "IntRangeSliderModel",
       "_view_name": "IntRangeSliderView",
       "behavior": "drag-tap",
       "description": "Y",
       "layout": "IPY_MODEL_d60bb067235a487b82ddabfe552cf256",
       "max": 235,
       "style": "IPY_MODEL_4fd5dcbabeec4720b93219807468414a",
       "value": [
        0,
        235
       ]
      }
     },
     "362479bfe08442a1b68d250f46b40e7b": {
      "model_module": "@jupyter-widgets/base",
      "model_module_version": "2.0.0",
      "model_name": "LayoutModel",
      "state": {}
     },
     "366be27e537d4429985a0f97c56cfe75": {
      "model_module": "ipycanvas",
      "model_module_version": "^0.13",
      "model_name": "CanvasModel",
      "state": {
       "_canvas_manager": "IPY_MODEL_5176882aedbb48b1bfa41a6aed57d31f",
       "_model_module_version": "^0.13",
       "_view_module_version": "^0.13",
       "height": 176,
       "layout": "IPY_MODEL_e14af96b2d5040ef8eefef1918640904",
       "width": 291
      }
     },
     "3ab7b71e07ee42b681e754865c9e1961": {
      "model_module": "@jupyter-widgets/controls",
      "model_module_version": "2.0.0",
      "model_name": "SliderStyleModel",
      "state": {
       "description_width": ""
      }
     },
     "3fdc76cea3134105a5b8358ff2ccd4c4": {
      "model_module": "@jupyter-widgets/base",
      "model_module_version": "2.0.0",
      "model_name": "LayoutModel",
      "state": {}
     },
     "407a1c3b35524adeb87ce044284b501c": {
      "model_module": "@jupyter-widgets/controls",
      "model_module_version": "2.0.0",
      "model_name": "VBoxModel",
      "state": {
       "children": [
        "IPY_MODEL_5392923a00344a70ab11d2cf2d3405b6"
       ],
       "layout": "IPY_MODEL_de4025e5648d4b8ca0cacf0fa53522dd"
      }
     },
     "40d95f79dba8415ca0489e30d93d103b": {
      "model_module": "@jupyter-widgets/controls",
      "model_module_version": "2.0.0",
      "model_name": "VBoxModel",
      "state": {
       "children": [
        "IPY_MODEL_366be27e537d4429985a0f97c56cfe75"
       ],
       "layout": "IPY_MODEL_ea21da3b5b634c00812b0e550c9da633"
      }
     },
     "41e5c1ca66a3414bb7c3975077670cd8": {
      "model_module": "@jupyter-widgets/base",
      "model_module_version": "2.0.0",
      "model_name": "LayoutModel",
      "state": {}
     },
     "41e8ef35cc844219bcbce9e7fdfc6345": {
      "model_module": "@jupyter-widgets/base",
      "model_module_version": "2.0.0",
      "model_name": "LayoutModel",
      "state": {}
     },
     "43ed3aae47a143eaae9d5a65bae898d9": {
      "model_module": "@jupyter-widgets/controls",
      "model_module_version": "2.0.0",
      "model_name": "SliderStyleModel",
      "state": {
       "description_width": ""
      }
     },
     "45fce865ac5b4e53a57a774adefcb44d": {
      "model_module": "@jupyter-widgets/controls",
      "model_module_version": "2.0.0",
      "model_name": "SliderStyleModel",
      "state": {
       "description_width": ""
      }
     },
     "46c03df0deac46b4b14eb90195ab367b": {
      "model_module": "@jupyter-widgets/controls",
      "model_module_version": "2.0.0",
      "model_name": "IntRangeSliderModel",
      "state": {
       "_model_name": "IntRangeSliderModel",
       "_view_name": "IntRangeSliderView",
       "behavior": "drag-tap",
       "description": "X",
       "layout": "IPY_MODEL_8105fbb8246244abba0d759f26fa5ed0",
       "max": 389,
       "style": "IPY_MODEL_3ab7b71e07ee42b681e754865c9e1961",
       "value": [
        0,
        389
       ]
      }
     },
     "48e4812095934f7694e059f7b5019236": {
      "model_module": "@jupyter-widgets/controls",
      "model_module_version": "2.0.0",
      "model_name": "IntSliderModel",
      "state": {
       "behavior": "drag-tap",
       "description": "Frame",
       "layout": "IPY_MODEL_362479bfe08442a1b68d250f46b40e7b",
       "max": 99,
       "style": "IPY_MODEL_4c4ead62d3da4cafa7801b525382757b",
       "value": 50
      }
     },
     "497702d6271c40e69f010f22affb645b": {
      "model_module": "@jupyter-widgets/controls",
      "model_module_version": "2.0.0",
      "model_name": "IntSliderModel",
      "state": {
       "behavior": "drag-tap",
       "description": "Slice",
       "layout": "IPY_MODEL_bd4dcd94544d44488708a3ac066fa19c",
       "max": 234,
       "style": "IPY_MODEL_136891c68999422784f2cd5afa8db75f",
       "value": 117
      }
     },
     "4c4ead62d3da4cafa7801b525382757b": {
      "model_module": "@jupyter-widgets/controls",
      "model_module_version": "2.0.0",
      "model_name": "SliderStyleModel",
      "state": {
       "description_width": ""
      }
     },
     "4dc048b5ab00455a820cd7baee02dd72": {
      "model_module": "@jupyter-widgets/base",
      "model_module_version": "2.0.0",
      "model_name": "LayoutModel",
      "state": {}
     },
     "4e13a8873b5c45148843076195f8a88d": {
      "model_module": "@jupyter-widgets/controls",
      "model_module_version": "2.0.0",
      "model_name": "IntRangeSliderModel",
      "state": {
       "_model_name": "IntRangeSliderModel",
       "_view_name": "IntRangeSliderView",
       "behavior": "drag-tap",
       "description": "Z",
       "layout": "IPY_MODEL_41e8ef35cc844219bcbce9e7fdfc6345",
       "style": "IPY_MODEL_ffc5ba733bd043949022b22b879ab016",
       "value": [
        0,
        40
       ]
      }
     },
     "4fcbc6cf88a64c52a72bfeb38728ac7b": {
      "model_module": "@jupyter-widgets/controls",
      "model_module_version": "2.0.0",
      "model_name": "SliderStyleModel",
      "state": {
       "description_width": ""
      }
     },
     "4fd5dcbabeec4720b93219807468414a": {
      "model_module": "@jupyter-widgets/controls",
      "model_module_version": "2.0.0",
      "model_name": "SliderStyleModel",
      "state": {
       "description_width": ""
      }
     },
     "5176882aedbb48b1bfa41a6aed57d31f": {
      "model_module": "ipycanvas",
      "model_module_version": "^0.13",
      "model_name": "CanvasManagerModel",
      "state": {
       "_model_module_version": "^0.13",
       "_view_module": null,
       "_view_module_version": ""
      }
     },
     "5392923a00344a70ab11d2cf2d3405b6": {
      "model_module": "ipycanvas",
      "model_module_version": "^0.13",
      "model_name": "CanvasModel",
      "state": {
       "_canvas_manager": "IPY_MODEL_5176882aedbb48b1bfa41a6aed57d31f",
       "_model_module_version": "^0.13",
       "_view_module_version": "^0.13",
       "height": 176,
       "layout": "IPY_MODEL_d085c2eb62444fab882ed5460b1ceb56",
       "width": 291
      }
     },
     "556a3aab7ef74ad58c643963d1d1f5c1": {
      "model_module": "@jupyter-widgets/base",
      "model_module_version": "2.0.0",
      "model_name": "LayoutModel",
      "state": {}
     },
     "571f10317eaa451ca357201aa7c7163c": {
      "model_module": "@jupyter-widgets/controls",
      "model_module_version": "2.0.0",
      "model_name": "IntRangeSliderModel",
      "state": {
       "_model_name": "IntRangeSliderModel",
       "_view_name": "IntRangeSliderView",
       "behavior": "drag-tap",
       "description": "Z",
       "layout": "IPY_MODEL_b774d5b820b146bd8e86ed88abc87c60",
       "style": "IPY_MODEL_45fce865ac5b4e53a57a774adefcb44d",
       "value": [
        0,
        100
       ]
      }
     },
     "583f7ce2babb42229fc010cc418df7e0": {
      "model_module": "@jupyter-widgets/base",
      "model_module_version": "2.0.0",
      "model_name": "LayoutModel",
      "state": {}
     },
     "5945634cc2ec4033a43507468a27a7fb": {
      "model_module": "@jupyter-widgets/base",
      "model_module_version": "2.0.0",
      "model_name": "LayoutModel",
      "state": {}
     },
     "5e0a73c37649420dbcb44f5455bce585": {
      "model_module": "@jupyter-widgets/controls",
      "model_module_version": "2.0.0",
      "model_name": "VBoxModel",
      "state": {
       "children": [
        "IPY_MODEL_ee64bc5b99be42e4841fea5853c7abd6",
        "IPY_MODEL_d62033d7908c4eb79a1c65021af1042b",
        "IPY_MODEL_bcd4fbfe4e404849972ffabf3e9009f5",
        "IPY_MODEL_6b657de7591e4ee2ae5be21e05ad7a94",
        "IPY_MODEL_c2c7e7a8b97e4a79961c0ac5c0a0ea6f"
       ],
       "layout": "IPY_MODEL_1a83fc4b749441e781201846eff11f45"
      }
     },
     "5f0e36df92da4ef5b1ab0966439c52b1": {
      "model_module": "@jupyter-widgets/base",
      "model_module_version": "2.0.0",
      "model_name": "LayoutModel",
      "state": {}
     },
     "612930e7bcef497abfac703df34a4340": {
      "model_module": "@jupyter-widgets/controls",
      "model_module_version": "2.0.0",
      "model_name": "IntRangeSliderModel",
      "state": {
       "_model_name": "IntRangeSliderModel",
       "_view_name": "IntRangeSliderView",
       "behavior": "drag-tap",
       "description": "X",
       "layout": "IPY_MODEL_300afa9320e4433880fd841f43565734",
       "max": 389,
       "style": "IPY_MODEL_7b4e720af35c409ca95c4be7f9bf860b",
       "value": [
        0,
        389
       ]
      }
     },
     "62c6085bb5b047dd886924f7a97a7a17": {
      "model_module": "@jupyter-widgets/base",
      "model_module_version": "2.0.0",
      "model_name": "LayoutModel",
      "state": {}
     },
     "6370791a37254088bc7b67a74b584dfb": {
      "model_module": "@jupyter-widgets/controls",
      "model_module_version": "2.0.0",
      "model_name": "IntRangeSliderModel",
      "state": {
       "_model_name": "IntRangeSliderModel",
       "_view_name": "IntRangeSliderView",
       "behavior": "drag-tap",
       "description": "Frame",
       "layout": "IPY_MODEL_96a1f834d58d427ea2c713a4a5cbec62",
       "style": "IPY_MODEL_17c666cfd43740d4beed828fe17b7a25",
       "value": [
        0,
        100
       ]
      }
     },
     "64bc5933d4a342d18a999aa5f9c59715": {
      "model_module": "@jupyter-widgets/controls",
      "model_module_version": "2.0.0",
      "model_name": "IntRangeSliderModel",
      "state": {
       "_model_name": "IntRangeSliderModel",
       "_view_name": "IntRangeSliderView",
       "behavior": "drag-tap",
       "description": "X",
       "layout": "IPY_MODEL_62c6085bb5b047dd886924f7a97a7a17",
       "max": 389,
       "style": "IPY_MODEL_12a1f34443cf4887aab35d536a63ab6b",
       "value": [
        80,
        120
       ]
      }
     },
     "696676e0c1664f99a68992a7f2043291": {
      "model_module": "@jupyter-widgets/controls",
      "model_module_version": "2.0.0",
      "model_name": "SliderStyleModel",
      "state": {
       "description_width": ""
      }
     },
     "6b657de7591e4ee2ae5be21e05ad7a94": {
      "model_module": "@jupyter-widgets/controls",
      "model_module_version": "2.0.0",
      "model_name": "HBoxModel",
      "state": {
       "children": [
        "IPY_MODEL_40d95f79dba8415ca0489e30d93d103b"
       ],
       "layout": "IPY_MODEL_4dc048b5ab00455a820cd7baee02dd72"
      }
     },
     "73a92e0ded2e47c6abfeb45cea70153d": {
      "model_module": "@jupyter-widgets/controls",
      "model_module_version": "2.0.0",
      "model_name": "IntRangeSliderModel",
      "state": {
       "_model_name": "IntRangeSliderModel",
       "_view_name": "IntRangeSliderView",
       "behavior": "drag-tap",
       "description": "X",
       "layout": "IPY_MODEL_9642e24c05e34144b4642c83286bf3dd",
       "max": 389,
       "style": "IPY_MODEL_ba9731cd7cd94787b3f561e6f51eb612",
       "value": [
        0,
        389
       ]
      }
     },
     "763ffcddd94a4084a79c19668ed54789": {
      "model_module": "@jupyter-widgets/controls",
      "model_module_version": "2.0.0",
      "model_name": "HBoxModel",
      "state": {
       "children": [
        "IPY_MODEL_d73d4af4dd7e4b79854c58adbd8f4b46"
       ],
       "layout": "IPY_MODEL_29397bdfe10a4cac90a651baf28f7402"
      }
     },
     "7734cc4c1e3f43e2bbd1d8bcbbc7199e": {
      "model_module": "@jupyter-widgets/controls",
      "model_module_version": "2.0.0",
      "model_name": "IntRangeSliderModel",
      "state": {
       "_model_name": "IntRangeSliderModel",
       "_view_name": "IntRangeSliderView",
       "behavior": "drag-tap",
       "description": "Y",
       "layout": "IPY_MODEL_98f3f2ea432e4cc4b5ae58d4cf4ba6ef",
       "max": 235,
       "style": "IPY_MODEL_1e8bed8fa75540e4aefd85f8d80415d2",
       "value": [
        0,
        235
       ]
      }
     },
     "7b4e720af35c409ca95c4be7f9bf860b": {
      "model_module": "@jupyter-widgets/controls",
      "model_module_version": "2.0.0",
      "model_name": "SliderStyleModel",
      "state": {
       "description_width": ""
      }
     },
     "8105fbb8246244abba0d759f26fa5ed0": {
      "model_module": "@jupyter-widgets/base",
      "model_module_version": "2.0.0",
      "model_name": "LayoutModel",
      "state": {}
     },
     "8b77331b03ab480caea8e89610bb3a36": {
      "model_module": "@jupyter-widgets/controls",
      "model_module_version": "2.0.0",
      "model_name": "VBoxModel",
      "state": {
       "children": [
        "IPY_MODEL_6370791a37254088bc7b67a74b584dfb",
        "IPY_MODEL_3397c8595f644451b10d84da8061cdf6",
        "IPY_MODEL_46c03df0deac46b4b14eb90195ab367b",
        "IPY_MODEL_0e2bf5146a1d459a95a36e1d9db28562",
        "IPY_MODEL_48e4812095934f7694e059f7b5019236"
       ],
       "layout": "IPY_MODEL_3fdc76cea3134105a5b8358ff2ccd4c4"
      }
     },
     "8ce29111dd504262b4ef8e6eb4b13a9d": {
      "model_module": "@jupyter-widgets/base",
      "model_module_version": "2.0.0",
      "model_name": "LayoutModel",
      "state": {}
     },
     "8e318722aa30427ca0def1c8b8cd3fe5": {
      "model_module": "@jupyter-widgets/base",
      "model_module_version": "2.0.0",
      "model_name": "LayoutModel",
      "state": {}
     },
     "9268cd597fda445cb3b4439a50f7fd55": {
      "model_module": "@jupyter-widgets/controls",
      "model_module_version": "2.0.0",
      "model_name": "SliderStyleModel",
      "state": {
       "description_width": ""
      }
     },
     "95a51386722a45daae19dfaac9130768": {
      "model_module": "@jupyter-widgets/base",
      "model_module_version": "2.0.0",
      "model_name": "LayoutModel",
      "state": {}
     },
     "9642e24c05e34144b4642c83286bf3dd": {
      "model_module": "@jupyter-widgets/base",
      "model_module_version": "2.0.0",
      "model_name": "LayoutModel",
      "state": {}
     },
     "96a1f834d58d427ea2c713a4a5cbec62": {
      "model_module": "@jupyter-widgets/base",
      "model_module_version": "2.0.0",
      "model_name": "LayoutModel",
      "state": {}
     },
     "98f3f2ea432e4cc4b5ae58d4cf4ba6ef": {
      "model_module": "@jupyter-widgets/base",
      "model_module_version": "2.0.0",
      "model_name": "LayoutModel",
      "state": {}
     },
     "aa4d93ec901148d998288a82c0b39f30": {
      "model_module": "@jupyter-widgets/base",
      "model_module_version": "2.0.0",
      "model_name": "LayoutModel",
      "state": {}
     },
     "acc5b267964e490da6323bae2d292ecf": {
      "model_module": "@jupyter-widgets/base",
      "model_module_version": "2.0.0",
      "model_name": "LayoutModel",
      "state": {}
     },
     "ace8f9fd1fe54591b6694b44f63de5f9": {
      "model_module": "@jupyter-widgets/controls",
      "model_module_version": "2.0.0",
      "model_name": "VBoxModel",
      "state": {
       "children": [
        "IPY_MODEL_d48c5b359fff4b63a934b52bc0ae101b"
       ],
       "layout": "IPY_MODEL_95a51386722a45daae19dfaac9130768"
      }
     },
     "b4f347d2ba2644f8a1aa48722ef5d85b": {
      "model_module": "@jupyter-widgets/base",
      "model_module_version": "2.0.0",
      "model_name": "LayoutModel",
      "state": {}
     },
     "b774d5b820b146bd8e86ed88abc87c60": {
      "model_module": "@jupyter-widgets/base",
      "model_module_version": "2.0.0",
      "model_name": "LayoutModel",
      "state": {}
     },
     "ba9731cd7cd94787b3f561e6f51eb612": {
      "model_module": "@jupyter-widgets/controls",
      "model_module_version": "2.0.0",
      "model_name": "SliderStyleModel",
      "state": {
       "description_width": ""
      }
     },
     "bcd4fbfe4e404849972ffabf3e9009f5": {
      "model_module": "@jupyter-widgets/controls",
      "model_module_version": "2.0.0",
      "model_name": "IntRangeSliderModel",
      "state": {
       "_model_name": "IntRangeSliderModel",
       "_view_name": "IntRangeSliderView",
       "behavior": "drag-tap",
       "description": "X",
       "layout": "IPY_MODEL_d29a812d5edb488fa3c56cc5d34e42ab",
       "max": 389,
       "style": "IPY_MODEL_ff5662652e5c4c7bbda84308c0ac5db5",
       "value": [
        0,
        389
       ]
      }
     },
     "bd4dcd94544d44488708a3ac066fa19c": {
      "model_module": "@jupyter-widgets/base",
      "model_module_version": "2.0.0",
      "model_name": "LayoutModel",
      "state": {
       "display": "none"
      }
     },
     "c2c7e7a8b97e4a79961c0ac5c0a0ea6f": {
      "model_module": "@jupyter-widgets/controls",
      "model_module_version": "2.0.0",
      "model_name": "IntSliderModel",
      "state": {
       "behavior": "drag-tap",
       "description": "Slice",
       "layout": "IPY_MODEL_acc5b267964e490da6323bae2d292ecf",
       "max": 99,
       "style": "IPY_MODEL_4fcbc6cf88a64c52a72bfeb38728ac7b",
       "value": 50
      }
     },
     "c5b596b76b824145a4388fa37cd6ceea": {
      "model_module": "@jupyter-widgets/controls",
      "model_module_version": "2.0.0",
      "model_name": "SliderStyleModel",
      "state": {
       "description_width": ""
      }
     },
     "c96b05eac9b245379cbdf65fa89f3b05": {
      "model_module": "@jupyter-widgets/controls",
      "model_module_version": "2.0.0",
      "model_name": "HBoxModel",
      "state": {
       "children": [
        "IPY_MODEL_cf5c887ff5ae4e49a55d255b0c82dd92"
       ],
       "layout": "IPY_MODEL_137b389fd9a24702830c9352a912094d"
      }
     },
     "cde09f104f62472da712808aae7e26d7": {
      "model_module": "@jupyter-widgets/controls",
      "model_module_version": "2.0.0",
      "model_name": "HBoxModel",
      "state": {
       "children": [
        "IPY_MODEL_407a1c3b35524adeb87ce044284b501c"
       ],
       "layout": "IPY_MODEL_2ed2da85aa9245a7aac73f75b3b32c8e"
      }
     },
     "cf5c887ff5ae4e49a55d255b0c82dd92": {
      "model_module": "@jupyter-widgets/controls",
      "model_module_version": "2.0.0",
      "model_name": "VBoxModel",
      "state": {
       "children": [
        "IPY_MODEL_1fc6533561124917ab29c4ddd0a66049"
       ],
       "layout": "IPY_MODEL_f4017346f60c441d9db0a2bbfc999c29"
      }
     },
     "d085c2eb62444fab882ed5460b1ceb56": {
      "model_module": "@jupyter-widgets/base",
      "model_module_version": "2.0.0",
      "model_name": "LayoutModel",
      "state": {}
     },
     "d29a812d5edb488fa3c56cc5d34e42ab": {
      "model_module": "@jupyter-widgets/base",
      "model_module_version": "2.0.0",
      "model_name": "LayoutModel",
      "state": {}
     },
     "d48c5b359fff4b63a934b52bc0ae101b": {
      "model_module": "ipycanvas",
      "model_module_version": "^0.13",
      "model_name": "CanvasModel",
      "state": {
       "_canvas_manager": "IPY_MODEL_5176882aedbb48b1bfa41a6aed57d31f",
       "_model_module_version": "^0.13",
       "_view_module_version": "^0.13",
       "height": 176,
       "layout": "IPY_MODEL_1422a150c52643ac9c72bbb8b9599eb9",
       "width": 291
      }
     },
     "d60bb067235a487b82ddabfe552cf256": {
      "model_module": "@jupyter-widgets/base",
      "model_module_version": "2.0.0",
      "model_name": "LayoutModel",
      "state": {}
     },
     "d62033d7908c4eb79a1c65021af1042b": {
      "model_module": "@jupyter-widgets/controls",
      "model_module_version": "2.0.0",
      "model_name": "IntRangeSliderModel",
      "state": {
       "_model_name": "IntRangeSliderModel",
       "_view_name": "IntRangeSliderView",
       "behavior": "drag-tap",
       "description": "Y",
       "layout": "IPY_MODEL_aa4d93ec901148d998288a82c0b39f30",
       "max": 235,
       "style": "IPY_MODEL_696676e0c1664f99a68992a7f2043291",
       "value": [
        0,
        235
       ]
      }
     },
     "d73d4af4dd7e4b79854c58adbd8f4b46": {
      "model_module": "@jupyter-widgets/controls",
      "model_module_version": "2.0.0",
      "model_name": "VBoxModel",
      "state": {
       "children": [
        "IPY_MODEL_e222de4386784f6ea444f286a884d102"
       ],
       "layout": "IPY_MODEL_2b229fdb9b214eb984659de06789e4da"
      }
     },
     "d7ee51fc4e0849b2b0dc93bc31892686": {
      "model_module": "@jupyter-widgets/controls",
      "model_module_version": "2.0.0",
      "model_name": "VBoxModel",
      "state": {
       "children": [
        "IPY_MODEL_4e13a8873b5c45148843076195f8a88d",
        "IPY_MODEL_27c66d58f257456391ef397d0413ccf3",
        "IPY_MODEL_64bc5933d4a342d18a999aa5f9c59715",
        "IPY_MODEL_763ffcddd94a4084a79c19668ed54789",
        "IPY_MODEL_3257399d4eff47fc97dace8955ca254e"
       ],
       "layout": "IPY_MODEL_5945634cc2ec4033a43507468a27a7fb"
      }
     },
     "de4025e5648d4b8ca0cacf0fa53522dd": {
      "model_module": "@jupyter-widgets/base",
      "model_module_version": "2.0.0",
      "model_name": "LayoutModel",
      "state": {}
     },
     "e14af96b2d5040ef8eefef1918640904": {
      "model_module": "@jupyter-widgets/base",
      "model_module_version": "2.0.0",
      "model_name": "LayoutModel",
      "state": {}
     },
     "e179fbfae7f14e289ef77892015da3bd": {
      "model_module": "@jupyter-widgets/controls",
      "model_module_version": "2.0.0",
      "model_name": "SliderStyleModel",
      "state": {
       "description_width": ""
      }
     },
     "e222de4386784f6ea444f286a884d102": {
      "model_module": "ipycanvas",
      "model_module_version": "^0.13",
      "model_name": "CanvasModel",
      "state": {
       "_canvas_manager": "IPY_MODEL_5176882aedbb48b1bfa41a6aed57d31f",
       "_model_module_version": "^0.13",
       "_view_module_version": "^0.13",
       "height": 80,
       "layout": "IPY_MODEL_b4f347d2ba2644f8a1aa48722ef5d85b",
       "width": 80
      }
     },
     "e26585864c5a494aa21d886071509d94": {
      "model_module": "@jupyter-widgets/controls",
      "model_module_version": "2.0.0",
      "model_name": "SliderStyleModel",
      "state": {
       "description_width": ""
      }
     },
     "e8322cd9e9614d43870346c49ddb43b3": {
      "model_module": "@jupyter-widgets/controls",
      "model_module_version": "2.0.0",
      "model_name": "IntRangeSliderModel",
      "state": {
       "_model_name": "IntRangeSliderModel",
       "_view_name": "IntRangeSliderView",
       "behavior": "drag-tap",
       "description": "Y",
       "layout": "IPY_MODEL_556a3aab7ef74ad58c643963d1d1f5c1",
       "max": 235,
       "style": "IPY_MODEL_9268cd597fda445cb3b4439a50f7fd55",
       "value": [
        0,
        235
       ]
      }
     },
     "ea21da3b5b634c00812b0e550c9da633": {
      "model_module": "@jupyter-widgets/base",
      "model_module_version": "2.0.0",
      "model_name": "LayoutModel",
      "state": {}
     },
     "ee64bc5b99be42e4841fea5853c7abd6": {
      "model_module": "@jupyter-widgets/controls",
      "model_module_version": "2.0.0",
      "model_name": "IntRangeSliderModel",
      "state": {
       "_model_name": "IntRangeSliderModel",
       "_view_name": "IntRangeSliderView",
       "behavior": "drag-tap",
       "description": "Z",
       "layout": "IPY_MODEL_f4328702177c40eea908ac16d1feaa10",
       "style": "IPY_MODEL_43ed3aae47a143eaae9d5a65bae898d9",
       "value": [
        0,
        100
       ]
      }
     },
     "f4017346f60c441d9db0a2bbfc999c29": {
      "model_module": "@jupyter-widgets/base",
      "model_module_version": "2.0.0",
      "model_name": "LayoutModel",
      "state": {}
     },
     "f4328702177c40eea908ac16d1feaa10": {
      "model_module": "@jupyter-widgets/base",
      "model_module_version": "2.0.0",
      "model_name": "LayoutModel",
      "state": {}
     },
     "f8432cf4fcc848eb851c3ab5e135dd0b": {
      "model_module": "@jupyter-widgets/base",
      "model_module_version": "2.0.0",
      "model_name": "LayoutModel",
      "state": {}
     },
     "fbe568bc1af14d17b755877dcf87fd96": {
      "model_module": "@jupyter-widgets/controls",
      "model_module_version": "2.0.0",
      "model_name": "VBoxModel",
      "state": {
       "children": [
        "IPY_MODEL_571f10317eaa451ca357201aa7c7163c",
        "IPY_MODEL_7734cc4c1e3f43e2bbd1d8bcbbc7199e",
        "IPY_MODEL_73a92e0ded2e47c6abfeb45cea70153d",
        "IPY_MODEL_cde09f104f62472da712808aae7e26d7",
        "IPY_MODEL_fca68d2c55f9483384c84b6999ae0f5a"
       ],
       "layout": "IPY_MODEL_f8432cf4fcc848eb851c3ab5e135dd0b"
      }
     },
     "fca68d2c55f9483384c84b6999ae0f5a": {
      "model_module": "@jupyter-widgets/controls",
      "model_module_version": "2.0.0",
      "model_name": "IntSliderModel",
      "state": {
       "behavior": "drag-tap",
       "description": "Slice",
       "layout": "IPY_MODEL_5f0e36df92da4ef5b1ab0966439c52b1",
       "max": 99,
       "style": "IPY_MODEL_c5b596b76b824145a4388fa37cd6ceea",
       "value": 50
      }
     },
     "ff5662652e5c4c7bbda84308c0ac5db5": {
      "model_module": "@jupyter-widgets/controls",
      "model_module_version": "2.0.0",
      "model_name": "SliderStyleModel",
      "state": {
       "description_width": ""
      }
     },
     "ffc5ba733bd043949022b22b879ab016": {
      "model_module": "@jupyter-widgets/controls",
      "model_module_version": "2.0.0",
      "model_name": "SliderStyleModel",
      "state": {
       "description_width": ""
      }
     }
    },
    "version_major": 2,
    "version_minor": 0
   }
  }
 },
 "nbformat": 4,
 "nbformat_minor": 5
}
