{
 "cells": [
  {
   "cell_type": "markdown",
   "id": "96d5e526-425b-4319-8043-828208956ef9",
   "metadata": {},
   "source": [
    "# Scatter plots\n",
    "Using `stackview.scatterplot` we can visualize contents of pandas DataFrames. In such a plot you can select objects and visualize the selection. This might be useful for exploring feature extraction parameter spaces."
   ]
  },
  {
   "cell_type": "code",
   "execution_count": 1,
   "id": "f4ec4d56-e298-40d8-a5b5-836cbcc2897d",
   "metadata": {},
   "outputs": [
    {
     "name": "stderr",
     "output_type": "stream",
     "text": [
      "/var/folders/9w/2fk0gqyd2txgyc0ttrl89qt40000gn/T/ipykernel_14783/2447804347.py:1: DeprecationWarning: \n",
      "Pyarrow will become a required dependency of pandas in the next major release of pandas (pandas 3.0),\n",
      "(to allow more performant data types, such as the Arrow string type, and better interoperability with other libraries)\n",
      "but was not found to be installed on your system.\n",
      "If this would cause problems for you,\n",
      "please provide us feedback at https://github.com/pandas-dev/pandas/issues/54466\n",
      "        \n",
      "  import pandas as pd\n"
     ]
    },
    {
     "data": {
      "text/plain": [
       "'0.11.2'"
      ]
     },
     "execution_count": 1,
     "metadata": {},
     "output_type": "execute_result"
    }
   ],
   "source": [
    "import pandas as pd\n",
    "import numpy as np\n",
    "import pandas as pd\n",
    "from skimage.measure import regionprops_table\n",
    "from skimage.io import imread\n",
    "from skimage.filters import threshold_otsu\n",
    "from skimage.measure import label\n",
    "import matplotlib.pyplot as plt\n",
    "\n",
    "import stackview\n",
    "stackview.__version__"
   ]
  },
  {
   "cell_type": "markdown",
   "id": "dfddfa23-9290-425e-b8e5-2fd4d586db9a",
   "metadata": {},
   "source": [
    "To demonstrate this, we need an image, a segmentation and a table of extracted features."
   ]
  },
  {
   "cell_type": "code",
   "execution_count": 2,
   "id": "e252c694-f7af-4b0d-9bbe-e6f682e8ab5c",
   "metadata": {},
   "outputs": [],
   "source": [
    "image = imread('data/blobs.tif')\n",
    "\n",
    "# segment image\n",
    "thresh = threshold_otsu(image)\n",
    "binary_image = image > thresh\n",
    "labeled_image = label(binary_image)"
   ]
  },
  {
   "cell_type": "code",
   "execution_count": 3,
   "id": "9e84d0b9-3b2f-42a9-b28a-b61f729d2b52",
   "metadata": {},
   "outputs": [
    {
     "data": {
      "text/html": [
       "<div>\n",
       "<style scoped>\n",
       "    .dataframe tbody tr th:only-of-type {\n",
       "        vertical-align: middle;\n",
       "    }\n",
       "\n",
       "    .dataframe tbody tr th {\n",
       "        vertical-align: top;\n",
       "    }\n",
       "\n",
       "    .dataframe thead th {\n",
       "        text-align: right;\n",
       "    }\n",
       "</style>\n",
       "<table border=\"1\" class=\"dataframe\">\n",
       "  <thead>\n",
       "    <tr style=\"text-align: right;\">\n",
       "      <th></th>\n",
       "      <th>centroid-0</th>\n",
       "      <th>centroid-1</th>\n",
       "      <th>area</th>\n",
       "      <th>feret_diameter_max</th>\n",
       "      <th>minor_axis_length</th>\n",
       "      <th>major_axis_length</th>\n",
       "      <th>aspect_ratio</th>\n",
       "      <th>selection</th>\n",
       "    </tr>\n",
       "  </thead>\n",
       "  <tbody>\n",
       "    <tr>\n",
       "      <th>0</th>\n",
       "      <td>13.212471</td>\n",
       "      <td>19.986143</td>\n",
       "      <td>433.0</td>\n",
       "      <td>36.055513</td>\n",
       "      <td>16.819060</td>\n",
       "      <td>34.957399</td>\n",
       "      <td>2.078439</td>\n",
       "      <td>1.0</td>\n",
       "    </tr>\n",
       "    <tr>\n",
       "      <th>1</th>\n",
       "      <td>4.270270</td>\n",
       "      <td>62.945946</td>\n",
       "      <td>185.0</td>\n",
       "      <td>21.377558</td>\n",
       "      <td>11.803854</td>\n",
       "      <td>21.061417</td>\n",
       "      <td>1.784283</td>\n",
       "      <td>1.0</td>\n",
       "    </tr>\n",
       "    <tr>\n",
       "      <th>2</th>\n",
       "      <td>12.568389</td>\n",
       "      <td>108.329787</td>\n",
       "      <td>658.0</td>\n",
       "      <td>32.449961</td>\n",
       "      <td>28.278264</td>\n",
       "      <td>30.212552</td>\n",
       "      <td>1.068402</td>\n",
       "      <td>1.0</td>\n",
       "    </tr>\n",
       "    <tr>\n",
       "      <th>3</th>\n",
       "      <td>9.806452</td>\n",
       "      <td>154.520737</td>\n",
       "      <td>434.0</td>\n",
       "      <td>26.925824</td>\n",
       "      <td>23.064079</td>\n",
       "      <td>24.535398</td>\n",
       "      <td>1.063793</td>\n",
       "      <td>1.0</td>\n",
       "    </tr>\n",
       "    <tr>\n",
       "      <th>4</th>\n",
       "      <td>13.545073</td>\n",
       "      <td>246.809224</td>\n",
       "      <td>477.0</td>\n",
       "      <td>31.384710</td>\n",
       "      <td>19.833058</td>\n",
       "      <td>31.162612</td>\n",
       "      <td>1.571246</td>\n",
       "      <td>1.0</td>\n",
       "    </tr>\n",
       "    <tr>\n",
       "      <th>5</th>\n",
       "      <td>15.757895</td>\n",
       "      <td>197.210526</td>\n",
       "      <td>285.0</td>\n",
       "      <td>21.840330</td>\n",
       "      <td>17.770536</td>\n",
       "      <td>20.506730</td>\n",
       "      <td>1.153974</td>\n",
       "      <td>1.0</td>\n",
       "    </tr>\n",
       "  </tbody>\n",
       "</table>\n",
       "</div>"
      ],
      "text/plain": [
       "   centroid-0  centroid-1   area  feret_diameter_max  minor_axis_length  \\\n",
       "0   13.212471   19.986143  433.0           36.055513          16.819060   \n",
       "1    4.270270   62.945946  185.0           21.377558          11.803854   \n",
       "2   12.568389  108.329787  658.0           32.449961          28.278264   \n",
       "3    9.806452  154.520737  434.0           26.925824          23.064079   \n",
       "4   13.545073  246.809224  477.0           31.384710          19.833058   \n",
       "5   15.757895  197.210526  285.0           21.840330          17.770536   \n",
       "\n",
       "   major_axis_length  aspect_ratio  selection  \n",
       "0          34.957399      2.078439        1.0  \n",
       "1          21.061417      1.784283        1.0  \n",
       "2          30.212552      1.068402        1.0  \n",
       "3          24.535398      1.063793        1.0  \n",
       "4          31.162612      1.571246        1.0  \n",
       "5          20.506730      1.153974        1.0  "
      ]
     },
     "execution_count": 3,
     "metadata": {},
     "output_type": "execute_result"
    }
   ],
   "source": [
    "properties = regionprops_table(labeled_image, properties=['centroid', 'area', 'feret_diameter_max', 'minor_axis_length', 'major_axis_length'])\n",
    "\n",
    "df = pd.DataFrame(properties)\n",
    "df[\"aspect_ratio\"] = df['major_axis_length'] / df['minor_axis_length']\n",
    "\n",
    "num_objects = df.shape[0]\n",
    "pre_selection = np.zeros(num_objects)\n",
    "pre_selection[:int(num_objects/2)] = 1\n",
    "\n",
    "pre_selection2 = np.zeros(num_objects)\n",
    "pre_selection2[::2] = 1\n",
    "\n",
    "df[\"selection\"] = pre_selection\n",
    "\n",
    "df.head(6)"
   ]
  },
  {
   "cell_type": "markdown",
   "id": "80aa7ed0-3d6e-492c-9d41-37e7ec286e7c",
   "metadata": {},
   "source": [
    "## Drawing an interactive scatter plot\n",
    "Next we draw a scatter plot of area versus Feret's diameter. You can select the axes which are plotted and the plot will change. You can also use a lasso-tool to select data points."
   ]
  },
  {
   "cell_type": "code",
   "execution_count": 5,
   "id": "8aae0e7c-38d3-45d3-91db-0b286c02c600",
   "metadata": {},
   "outputs": [
    {
     "data": {
      "application/vnd.jupyter.widget-view+json": {
       "model_id": "e5e7c84da92a4c518a22b18fa1c09eb4",
       "version_major": 2,
       "version_minor": 0
      },
      "text/plain": [
       "HBox(children=(VBox(children=(VBox(children=(HBox(children=(Dropdown(description='X-axis', index=2, layout=Lay…"
      ]
     },
     "execution_count": 5,
     "metadata": {},
     "output_type": "execute_result"
    }
   ],
   "source": [
    "stackview.plot(df, 'area', 'feret_diameter_max', \"selection\", figsize=(5,4))"
   ]
  },
  {
   "cell_type": "markdown",
   "id": "7315ae2c",
   "metadata": {},
   "source": [
    "You can also display a histogram if you select twice the same measurement:"
   ]
  },
  {
   "cell_type": "code",
   "execution_count": 6,
   "id": "0cd953cd",
   "metadata": {},
   "outputs": [
    {
     "data": {
      "application/vnd.jupyter.widget-view+json": {
       "model_id": "fba31192b5b6463cb2125cf644273eb7",
       "version_major": 2,
       "version_minor": 0
      },
      "text/plain": [
       "HBox(children=(VBox(children=(VBox(children=(HBox(children=(Dropdown(description='X-axis', index=2, layout=Lay…"
      ]
     },
     "execution_count": 6,
     "metadata": {},
     "output_type": "execute_result"
    }
   ],
   "source": [
    "stackview.plot(df, 'area', 'area', \"selection\", figsize=(5,4))"
   ]
  },
  {
   "cell_type": "markdown",
   "id": "70165553-2c82-40d4-8db4-5287786b1db2",
   "metadata": {},
   "source": [
    "Next we take the selection from the dataframe and visualize this as an image."
   ]
  },
  {
   "cell_type": "code",
   "execution_count": 5,
   "id": "137e5269-f5f7-4f38-b562-8eccf752b092",
   "metadata": {},
   "outputs": [
    {
     "data": {
      "text/html": [
       "<table>\n",
       "<tr>\n",
       "<td>\n",
       "<img src=\"data:image/png;base64,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\"></img>\n",
       "</td>\n",
       "<td style=\"text-align: center; vertical-align: top;\">\n",
       "\n",
       "<table>\n",
       "<tr><td>shape</td><td>(254,&nbsp;256)</td></tr>\n",
       "<tr><td>dtype</td><td>uint32</td></tr>\n",
       "<tr><td>size</td><td>254.0 kB</td></tr>\n",
       "<tr><td>min</td><td>0</td></tr><tr><td>max</td><td>2</td></tr>\n",
       "</table>\n",
       "\n",
       "</td>\n",
       "</tr>\n",
       "</table>"
      ],
      "text/plain": [
       "StackViewNDArray([[0, 0, 0, ..., 2, 2, 2],\n",
       "                  [0, 0, 0, ..., 2, 2, 2],\n",
       "                  [0, 0, 0, ..., 2, 2, 2],\n",
       "                  ...,\n",
       "                  [0, 0, 0, ..., 0, 0, 0],\n",
       "                  [0, 0, 0, ..., 0, 0, 0],\n",
       "                  [0, 0, 0, ..., 0, 0, 0]], dtype=uint32)"
      ]
     },
     "execution_count": 5,
     "metadata": {},
     "output_type": "execute_result"
    }
   ],
   "source": [
    "selection = df[\"selection\"].tolist()\n",
    "\n",
    "selected_image = np.take(np.asarray([-1] + list(selection)) * 1 + 1, labeled_image).astype(np.uint32)\n",
    "\n",
    "stackview.insight(selected_image)"
   ]
  },
  {
   "cell_type": "markdown",
   "id": "668151cb-4a89-43a8-bbb0-7fd4fe54414a",
   "metadata": {},
   "source": [
    "## Interaction\n",
    "Using some more involved code we can also draw the image and the scatter plot side-by-side and make them interact. You can select data points in the plot on the right and the visualization on the left will be updated accordingly."
   ]
  },
  {
   "cell_type": "code",
   "execution_count": 6,
   "id": "7b2bbd63-3255-4ada-94a6-b77207c8efaf",
   "metadata": {},
   "outputs": [
    {
     "data": {
      "application/vnd.jupyter.widget-view+json": {
       "model_id": "98ab4d4f5a1f41329a2d7d039cf57d52",
       "version_major": 2,
       "version_minor": 0
      },
      "text/plain": [
       "VBox(children=(HBox(children=(VBox(children=(HBox(children=(VBox(children=(ImageWidget(height=406, width=409),…"
      ]
     },
     "execution_count": 6,
     "metadata": {},
     "output_type": "execute_result"
    }
   ],
   "source": [
    "stackview.clusterplot(image=image,\n",
    "                     labels=labeled_image,\n",
    "                     df=df,\n",
    "                     column_x=\"area\",\n",
    "                     column_y=\"aspect_ratio\", \n",
    "                     zoom_factor=1.6,\n",
    "                     alpha=0.7)"
   ]
  },
  {
   "cell_type": "markdown",
   "id": "f9b8afd9-9f0a-4f3e-967f-f7680de602a9",
   "metadata": {},
   "source": [
    "Every time the user selects different data points, the selection in our dataframe is update"
   ]
  },
  {
   "cell_type": "code",
   "execution_count": 7,
   "id": "0aa32ebb-7539-48e1-a8c4-be0deb255d05",
   "metadata": {},
   "outputs": [
    {
     "data": {
      "text/plain": [
       "0     1.0\n",
       "1     1.0\n",
       "2     1.0\n",
       "3     1.0\n",
       "4     1.0\n",
       "     ... \n",
       "59    0.0\n",
       "60    0.0\n",
       "61    0.0\n",
       "62    0.0\n",
       "63    0.0\n",
       "Name: selection, Length: 64, dtype: float64"
      ]
     },
     "execution_count": 7,
     "metadata": {},
     "output_type": "execute_result"
    }
   ],
   "source": [
    "df[\"selection\"]"
   ]
  },
  {
   "cell_type": "markdown",
   "id": "8c418529-5596-415a-ac1f-7485da7790e0",
   "metadata": {},
   "source": [
    "## Custom widgets\n",
    "You can also build such a side-by-side view with  two plots yourself:"
   ]
  },
  {
   "cell_type": "code",
   "execution_count": 10,
   "id": "d8f85ddd-160e-44f7-a5e3-eb42e032f093",
   "metadata": {},
   "outputs": [
    {
     "data": {
      "application/vnd.jupyter.widget-view+json": {
       "model_id": "6364820096204b41969d4d12eeabd489",
       "version_major": 2,
       "version_minor": 0
      },
      "text/plain": [
       "HBox(children=(HBox(children=(VBox(children=(VBox(children=(HBox(children=(Label(value='Axes '), Dropdown(layo…"
      ]
     },
     "execution_count": 10,
     "metadata": {},
     "output_type": "execute_result"
    }
   ],
   "source": [
    "import ipywidgets as widgets\n",
    "from ipywidgets import HBox\n",
    "\n",
    "# Program functions that are executed when the selection is changed.\n",
    "def update2(e=None):\n",
    "    widget2.update()\n",
    "\n",
    "def update1(e=None):\n",
    "    widget1.update()\n",
    "    \n",
    "widget1 = stackview.scatterplot(df, column_x=\"centroid-0\", column_y=\"centroid-1\", selection_changed_callback=update2, markersize=50)\n",
    "widget2 = stackview.scatterplot(df, column_x=\"area\", column_y=\"aspect_ratio\", selection_changed_callback=update1)\n",
    "\n",
    "# Arrange the widgets side by side using HBox\n",
    "HBox([widget1, widget2])\n"
   ]
  },
  {
   "cell_type": "code",
   "execution_count": null,
   "id": "e54890a5-e89c-4861-bf5b-8aa1c5f7f697",
   "metadata": {},
   "outputs": [],
   "source": []
  }
 ],
 "metadata": {
  "kernelspec": {
   "display_name": "allrounder_env",
   "language": "python",
   "name": "python3"
  },
  "language_info": {
   "codemirror_mode": {
    "name": "ipython",
    "version": 3
   },
   "file_extension": ".py",
   "mimetype": "text/x-python",
   "name": "python",
   "nbconvert_exporter": "python",
   "pygments_lexer": "ipython3",
   "version": "3.12.0"
  }
 },
 "nbformat": 4,
 "nbformat_minor": 5
}
