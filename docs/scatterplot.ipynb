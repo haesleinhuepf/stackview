{
 "cells": [
  {
   "cell_type": "markdown",
   "id": "96d5e526-425b-4319-8043-828208956ef9",
   "metadata": {},
   "source": [
    "# Scatter plots\n",
    "Using `stackview.scatterplot` we can visualize contents of pandas DataFrames. In such a plot you can select objects and visualize the selection. This might be useful for exploring feature extraction parameter spaces."
   ]
  },
  {
   "cell_type": "code",
   "execution_count": 1,
   "id": "f4ec4d56-e298-40d8-a5b5-836cbcc2897d",
   "metadata": {},
   "outputs": [
    {
     "data": {
      "text/plain": [
       "'0.11.2'"
      ]
     },
     "execution_count": 1,
     "metadata": {},
     "output_type": "execute_result"
    }
   ],
   "source": [
    "import pandas as pd\n",
    "import numpy as np\n",
    "import pandas as pd\n",
    "from skimage.measure import regionprops_table\n",
    "from skimage.io import imread\n",
    "from skimage.filters import threshold_otsu\n",
    "from skimage.measure import label\n",
    "import matplotlib.pyplot as plt\n",
    "\n",
    "import stackview\n",
    "stackview.__version__"
   ]
  },
  {
   "cell_type": "markdown",
   "id": "dfddfa23-9290-425e-b8e5-2fd4d586db9a",
   "metadata": {},
   "source": [
    "To demonstrate this, we need an image, a segmentation and a table of extracted features."
   ]
  },
  {
   "cell_type": "code",
   "execution_count": 2,
   "id": "e252c694-f7af-4b0d-9bbe-e6f682e8ab5c",
   "metadata": {},
   "outputs": [],
   "source": [
    "image = imread('data/blobs.tif')\n",
    "\n",
    "# segment image\n",
    "thresh = threshold_otsu(image)\n",
    "binary_image = image > thresh\n",
    "labeled_image = label(binary_image)"
   ]
  },
  {
   "cell_type": "code",
   "execution_count": 3,
   "id": "9e84d0b9-3b2f-42a9-b28a-b61f729d2b52",
   "metadata": {},
   "outputs": [
    {
     "data": {
      "text/html": [
       "<div>\n",
       "<style scoped>\n",
       "    .dataframe tbody tr th:only-of-type {\n",
       "        vertical-align: middle;\n",
       "    }\n",
       "\n",
       "    .dataframe tbody tr th {\n",
       "        vertical-align: top;\n",
       "    }\n",
       "\n",
       "    .dataframe thead th {\n",
       "        text-align: right;\n",
       "    }\n",
       "</style>\n",
       "<table border=\"1\" class=\"dataframe\">\n",
       "  <thead>\n",
       "    <tr style=\"text-align: right;\">\n",
       "      <th></th>\n",
       "      <th>centroid-0</th>\n",
       "      <th>centroid-1</th>\n",
       "      <th>area</th>\n",
       "      <th>feret_diameter_max</th>\n",
       "      <th>minor_axis_length</th>\n",
       "      <th>major_axis_length</th>\n",
       "      <th>aspect_ratio</th>\n",
       "      <th>selection</th>\n",
       "    </tr>\n",
       "  </thead>\n",
       "  <tbody>\n",
       "    <tr>\n",
       "      <th>0</th>\n",
       "      <td>13.212471</td>\n",
       "      <td>19.986143</td>\n",
       "      <td>433.0</td>\n",
       "      <td>36.055513</td>\n",
       "      <td>16.819060</td>\n",
       "      <td>34.957399</td>\n",
       "      <td>2.078439</td>\n",
       "      <td>1.0</td>\n",
       "    </tr>\n",
       "    <tr>\n",
       "      <th>1</th>\n",
       "      <td>4.270270</td>\n",
       "      <td>62.945946</td>\n",
       "      <td>185.0</td>\n",
       "      <td>21.377558</td>\n",
       "      <td>11.803854</td>\n",
       "      <td>21.061417</td>\n",
       "      <td>1.784283</td>\n",
       "      <td>1.0</td>\n",
       "    </tr>\n",
       "    <tr>\n",
       "      <th>2</th>\n",
       "      <td>12.568389</td>\n",
       "      <td>108.329787</td>\n",
       "      <td>658.0</td>\n",
       "      <td>32.449961</td>\n",
       "      <td>28.278264</td>\n",
       "      <td>30.212552</td>\n",
       "      <td>1.068402</td>\n",
       "      <td>1.0</td>\n",
       "    </tr>\n",
       "    <tr>\n",
       "      <th>3</th>\n",
       "      <td>9.806452</td>\n",
       "      <td>154.520737</td>\n",
       "      <td>434.0</td>\n",
       "      <td>26.925824</td>\n",
       "      <td>23.064079</td>\n",
       "      <td>24.535398</td>\n",
       "      <td>1.063793</td>\n",
       "      <td>1.0</td>\n",
       "    </tr>\n",
       "    <tr>\n",
       "      <th>4</th>\n",
       "      <td>13.545073</td>\n",
       "      <td>246.809224</td>\n",
       "      <td>477.0</td>\n",
       "      <td>31.384710</td>\n",
       "      <td>19.833058</td>\n",
       "      <td>31.162612</td>\n",
       "      <td>1.571246</td>\n",
       "      <td>1.0</td>\n",
       "    </tr>\n",
       "    <tr>\n",
       "      <th>5</th>\n",
       "      <td>15.757895</td>\n",
       "      <td>197.210526</td>\n",
       "      <td>285.0</td>\n",
       "      <td>21.840330</td>\n",
       "      <td>17.770536</td>\n",
       "      <td>20.506730</td>\n",
       "      <td>1.153974</td>\n",
       "      <td>1.0</td>\n",
       "    </tr>\n",
       "  </tbody>\n",
       "</table>\n",
       "</div>"
      ],
      "text/plain": [
       "   centroid-0  centroid-1   area  feret_diameter_max  minor_axis_length  \\\n",
       "0   13.212471   19.986143  433.0           36.055513          16.819060   \n",
       "1    4.270270   62.945946  185.0           21.377558          11.803854   \n",
       "2   12.568389  108.329787  658.0           32.449961          28.278264   \n",
       "3    9.806452  154.520737  434.0           26.925824          23.064079   \n",
       "4   13.545073  246.809224  477.0           31.384710          19.833058   \n",
       "5   15.757895  197.210526  285.0           21.840330          17.770536   \n",
       "\n",
       "   major_axis_length  aspect_ratio  selection  \n",
       "0          34.957399      2.078439        1.0  \n",
       "1          21.061417      1.784283        1.0  \n",
       "2          30.212552      1.068402        1.0  \n",
       "3          24.535398      1.063793        1.0  \n",
       "4          31.162612      1.571246        1.0  \n",
       "5          20.506730      1.153974        1.0  "
      ]
     },
     "execution_count": 3,
     "metadata": {},
     "output_type": "execute_result"
    }
   ],
   "source": [
    "properties = regionprops_table(labeled_image, properties=['centroid', 'area', 'feret_diameter_max', 'minor_axis_length', 'major_axis_length'])\n",
    "\n",
    "df = pd.DataFrame(properties)\n",
    "df[\"aspect_ratio\"] = df['major_axis_length'] / df['minor_axis_length']\n",
    "\n",
    "num_objects = df.shape[0]\n",
    "pre_selection = np.zeros(num_objects)\n",
    "pre_selection[:int(num_objects/2)] = 1\n",
    "\n",
    "pre_selection2 = np.zeros(num_objects)\n",
    "pre_selection2[::2] = 1\n",
    "\n",
    "df[\"selection\"] = pre_selection\n",
    "\n",
    "df.head(6)"
   ]
  },
  {
   "cell_type": "markdown",
   "id": "80aa7ed0-3d6e-492c-9d41-37e7ec286e7c",
   "metadata": {},
   "source": [
    "## Drawing an interactive scatter plot\n",
    "Next we draw a scatter plot of area versus Feret's diameter. You can select the axes which are plotted and the plot will change. You can also use a lasso-tool to select data points."
   ]
  },
  {
   "cell_type": "code",
   "execution_count": 4,
   "id": "8aae0e7c-38d3-45d3-91db-0b286c02c600",
   "metadata": {},
   "outputs": [
    {
     "data": {
      "application/vnd.jupyter.widget-view+json": {
       "model_id": "b7a2b1ced0a24c678c748b2ba9a038cf",
       "version_major": 2,
       "version_minor": 0
      },
      "text/plain": [
       "HBox(children=(VBox(children=(VBox(children=(HBox(children=(Dropdown(description='X-axis', index=2, layout=Lay…"
      ]
     },
     "execution_count": 4,
     "metadata": {},
     "output_type": "execute_result"
    }
   ],
   "source": [
    "stackview.scatterplot(df, 'area', 'feret_diameter_max', \"selection\", figsize=(5,4))"
   ]
  },
  {
   "cell_type": "markdown",
   "id": "7315ae2c",
   "metadata": {},
   "source": [
    "You can also display a histogram if you select twice the same measurement:"
   ]
  },
  {
   "cell_type": "code",
   "execution_count": 5,
   "id": "0cd953cd",
   "metadata": {},
   "outputs": [
    {
     "data": {
      "application/vnd.jupyter.widget-view+json": {
       "model_id": "b255de5c0f184c6d9960ab48948b65e4",
       "version_major": 2,
       "version_minor": 0
      },
      "text/plain": [
       "HBox(children=(VBox(children=(VBox(children=(HBox(children=(Dropdown(description='X-axis', index=2, layout=Lay…"
      ]
     },
     "execution_count": 5,
     "metadata": {},
     "output_type": "execute_result"
    }
   ],
   "source": [
    "stackview.scatterplot(df, 'area', 'area', \"selection\", figsize=(5,4))"
   ]
  },
  {
   "cell_type": "markdown",
   "id": "70165553-2c82-40d4-8db4-5287786b1db2",
   "metadata": {},
   "source": [
    "Next we take the selection from the dataframe and visualize this as an image."
   ]
  },
  {
   "cell_type": "code",
   "execution_count": 6,
   "id": "137e5269-f5f7-4f38-b562-8eccf752b092",
   "metadata": {},
   "outputs": [
    {
     "data": {
      "text/html": [
       "<table>\n",
       "<tr>\n",
       "<td>\n",
       "<img src=\"data:image/png;base64,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\"></img>\n",
       "</td>\n",
       "<td style=\"text-align: center; vertical-align: top;\">\n",
       "\n",
       "<table>\n",
       "<tr><td>shape</td><td>(254,&nbsp;256)</td></tr>\n",
       "<tr><td>dtype</td><td>uint32</td></tr>\n",
       "<tr><td>size</td><td>254.0 kB</td></tr>\n",
       "<tr><td>min</td><td>0</td></tr><tr><td>max</td><td>2</td></tr>\n",
       "</table>\n",
       "\n",
       "</td>\n",
       "</tr>\n",
       "</table>"
      ],
      "text/plain": [
       "StackViewNDArray([[0, 0, 0, ..., 2, 2, 2],\n",
       "                  [0, 0, 0, ..., 2, 2, 2],\n",
       "                  [0, 0, 0, ..., 2, 2, 2],\n",
       "                  ...,\n",
       "                  [0, 0, 0, ..., 0, 0, 0],\n",
       "                  [0, 0, 0, ..., 0, 0, 0],\n",
       "                  [0, 0, 0, ..., 0, 0, 0]], dtype=uint32)"
      ]
     },
     "execution_count": 6,
     "metadata": {},
     "output_type": "execute_result"
    }
   ],
   "source": [
    "selection = df[\"selection\"].tolist()\n",
    "\n",
    "selected_image = np.take(np.asarray([-1] + list(selection)) * 1 + 1, labeled_image).astype(np.uint32)\n",
    "\n",
    "stackview.insight(selected_image)"
   ]
  },
  {
   "cell_type": "markdown",
   "id": "668151cb-4a89-43a8-bbb0-7fd4fe54414a",
   "metadata": {},
   "source": [
    "## Interaction\n",
    "Using some more involved code we can also draw the image and the scatter plot side-by-side and make them interact. You can select data points in the plot on the right and the visualization on the left will be updated accordingly."
   ]
  },
  {
   "cell_type": "code",
   "execution_count": null,
   "id": "7b2bbd63-3255-4ada-94a6-b77207c8efaf",
   "metadata": {},
   "outputs": [
    {
     "data": {
      "application/vnd.jupyter.widget-view+json": {
       "model_id": "eae81136e1bd47d49a7138317b4a8b8f",
       "version_major": 2,
       "version_minor": 0
      },
      "text/plain": [
       "VBox(children=(HBox(children=(HBox(children=(VBox(children=(VBox(children=(HBox(children=(VBox(children=(Image…"
      ]
     },
     "execution_count": 7,
     "metadata": {},
     "output_type": "execute_result"
    }
   ],
   "source": [
    "stackview.clusterplot(image=image,\n",
    "                     labels=labeled_image,\n",
    "                     df=df,\n",
    "                     column_x=\"area\",\n",
    "                     column_y=\"aspect_ratio\", \n",
    "                     zoom_factor=1.6,\n",
    "                     alpha=0.7)"
   ]
  },
  {
   "cell_type": "markdown",
   "id": "f9b8afd9-9f0a-4f3e-967f-f7680de602a9",
   "metadata": {},
   "source": [
    "Every time the user selects different data points, the selection in our dataframe is update"
   ]
  },
  {
   "cell_type": "code",
   "execution_count": 8,
   "id": "0aa32ebb-7539-48e1-a8c4-be0deb255d05",
   "metadata": {},
   "outputs": [
    {
     "data": {
      "text/plain": [
       "0     1.0\n",
       "1     1.0\n",
       "2     1.0\n",
       "3     1.0\n",
       "4     1.0\n",
       "     ... \n",
       "59    0.0\n",
       "60    0.0\n",
       "61    0.0\n",
       "62    0.0\n",
       "63    0.0\n",
       "Name: selection, Length: 64, dtype: float64"
      ]
     },
     "execution_count": 8,
     "metadata": {},
     "output_type": "execute_result"
    }
   ],
   "source": [
    "df[\"selection\"]"
   ]
  },
  {
   "cell_type": "markdown",
   "id": "8c418529-5596-415a-ac1f-7485da7790e0",
   "metadata": {},
   "source": [
    "## Custom widgets\n",
    "You can also build such a side-by-side view with  two plots yourself:"
   ]
  },
  {
   "cell_type": "code",
   "execution_count": 10,
   "id": "d8f85ddd-160e-44f7-a5e3-eb42e032f093",
   "metadata": {},
   "outputs": [
    {
     "data": {
      "application/vnd.jupyter.widget-view+json": {
       "model_id": "5b6634c67e684f0da09bd949c4952c39",
       "version_major": 2,
       "version_minor": 0
      },
      "text/plain": [
       "HBox(children=(HBox(children=(VBox(children=(VBox(children=(HBox(children=(Dropdown(description='X-axis', layo…"
      ]
     },
     "execution_count": 10,
     "metadata": {},
     "output_type": "execute_result"
    }
   ],
   "source": [
    "import ipywidgets as widgets\n",
    "from ipywidgets import HBox\n",
    "\n",
    "# Program functions that are executed when the selection is changed.\n",
    "def update2(e=None):\n",
    "    widget2.update()\n",
    "\n",
    "def update1(e=None):\n",
    "    widget1.update()\n",
    "    \n",
    "widget1 = stackview.scatterplot(df, column_x=\"centroid-0\", column_y=\"centroid-1\", selection_changed_callback=update2, markersize=50)\n",
    "widget2 = stackview.scatterplot(df, column_x=\"area\", column_y=\"area\", selection_changed_callback=update1)\n",
    "\n",
    "# Arrange the widgets side by side using HBox\n",
    "HBox([widget1, widget2])\n"
   ]
  },
  {
   "cell_type": "code",
   "execution_count": null,
   "id": "f3332216",
   "metadata": {},
   "outputs": [],
   "source": []
  }
 ],
 "metadata": {
  "kernelspec": {
   "display_name": "allrounder_env",
   "language": "python",
   "name": "python3"
  },
  "language_info": {
   "codemirror_mode": {
    "name": "ipython",
    "version": 3
   },
   "file_extension": ".py",
   "mimetype": "text/x-python",
   "name": "python",
   "nbconvert_exporter": "python",
   "pygments_lexer": "ipython3",
   "version": "3.12.2"
  }
 },
 "nbformat": 4,
 "nbformat_minor": 5
}
